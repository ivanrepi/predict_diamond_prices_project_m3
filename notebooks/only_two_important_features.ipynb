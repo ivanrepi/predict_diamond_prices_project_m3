{
 "cells": [
  {
   "cell_type": "code",
   "execution_count": 2,
   "source": [
    "# imports \n",
    "import numpy as np\n",
    "import pandas as pd\n",
    "\n",
    "from sklearn.model_selection import train_test_split\n",
    "\n",
    "\n",
    "from sklearn import linear_model\n",
    "from sklearn.linear_model import ElasticNet\n",
    "from sklearn.linear_model import Ridge\n",
    "from sklearn.svm import SVR\n",
    "from sklearn.linear_model import SGDRegressor\n",
    "from sklearn.linear_model import LinearRegression\n",
    "from sklearn.ensemble import RandomForestRegressor\n",
    "\n",
    "\n",
    "from sklearn.preprocessing import StandardScaler\n",
    "from sklearn.preprocessing import MinMaxScaler\n",
    "from sklearn.preprocessing import RobustScaler\n",
    "\n",
    "\n",
    "from sklearn.metrics import mean_squared_error\n"
   ],
   "outputs": [],
   "metadata": {}
  },
  {
   "cell_type": "code",
   "execution_count": 81,
   "source": [
    "df= pd.read_csv('../data/train/diamonds_train_cleaned.csv', index_col=[0])\n",
    "df"
   ],
   "outputs": [
    {
     "output_type": "execute_result",
     "data": {
      "text/html": [
       "<div>\n",
       "<style scoped>\n",
       "    .dataframe tbody tr th:only-of-type {\n",
       "        vertical-align: middle;\n",
       "    }\n",
       "\n",
       "    .dataframe tbody tr th {\n",
       "        vertical-align: top;\n",
       "    }\n",
       "\n",
       "    .dataframe thead th {\n",
       "        text-align: right;\n",
       "    }\n",
       "</style>\n",
       "<table border=\"1\" class=\"dataframe\">\n",
       "  <thead>\n",
       "    <tr style=\"text-align: right;\">\n",
       "      <th></th>\n",
       "      <th>depth</th>\n",
       "      <th>table</th>\n",
       "      <th>x</th>\n",
       "      <th>y</th>\n",
       "      <th>z</th>\n",
       "      <th>price</th>\n",
       "      <th>carat</th>\n",
       "      <th>cut</th>\n",
       "      <th>color</th>\n",
       "      <th>clarity</th>\n",
       "      <th>city</th>\n",
       "    </tr>\n",
       "  </thead>\n",
       "  <tbody>\n",
       "    <tr>\n",
       "      <th>0</th>\n",
       "      <td>62.4</td>\n",
       "      <td>58.0</td>\n",
       "      <td>6.83</td>\n",
       "      <td>6.79</td>\n",
       "      <td>4.25</td>\n",
       "      <td>4268</td>\n",
       "      <td>1.21</td>\n",
       "      <td>Premium</td>\n",
       "      <td>J</td>\n",
       "      <td>VS2</td>\n",
       "      <td>Dubai</td>\n",
       "    </tr>\n",
       "    <tr>\n",
       "      <th>1</th>\n",
       "      <td>61.6</td>\n",
       "      <td>58.0</td>\n",
       "      <td>6.40</td>\n",
       "      <td>6.35</td>\n",
       "      <td>3.93</td>\n",
       "      <td>3513</td>\n",
       "      <td>1.02</td>\n",
       "      <td>Premium</td>\n",
       "      <td>J</td>\n",
       "      <td>VS2</td>\n",
       "      <td>Dubai</td>\n",
       "    </tr>\n",
       "    <tr>\n",
       "      <th>2</th>\n",
       "      <td>62.3</td>\n",
       "      <td>58.0</td>\n",
       "      <td>5.86</td>\n",
       "      <td>5.80</td>\n",
       "      <td>3.63</td>\n",
       "      <td>1792</td>\n",
       "      <td>0.77</td>\n",
       "      <td>Premium</td>\n",
       "      <td>J</td>\n",
       "      <td>VS2</td>\n",
       "      <td>Dubai</td>\n",
       "    </tr>\n",
       "    <tr>\n",
       "      <th>3</th>\n",
       "      <td>59.6</td>\n",
       "      <td>60.0</td>\n",
       "      <td>7.58</td>\n",
       "      <td>7.48</td>\n",
       "      <td>4.49</td>\n",
       "      <td>7553</td>\n",
       "      <td>1.51</td>\n",
       "      <td>Premium</td>\n",
       "      <td>J</td>\n",
       "      <td>VS2</td>\n",
       "      <td>Dubai</td>\n",
       "    </tr>\n",
       "    <tr>\n",
       "      <th>4</th>\n",
       "      <td>60.2</td>\n",
       "      <td>62.0</td>\n",
       "      <td>5.40</td>\n",
       "      <td>5.33</td>\n",
       "      <td>3.23</td>\n",
       "      <td>1176</td>\n",
       "      <td>0.57</td>\n",
       "      <td>Premium</td>\n",
       "      <td>J</td>\n",
       "      <td>VS2</td>\n",
       "      <td>Dubai</td>\n",
       "    </tr>\n",
       "    <tr>\n",
       "      <th>...</th>\n",
       "      <td>...</td>\n",
       "      <td>...</td>\n",
       "      <td>...</td>\n",
       "      <td>...</td>\n",
       "      <td>...</td>\n",
       "      <td>...</td>\n",
       "      <td>...</td>\n",
       "      <td>...</td>\n",
       "      <td>...</td>\n",
       "      <td>...</td>\n",
       "      <td>...</td>\n",
       "    </tr>\n",
       "    <tr>\n",
       "      <th>40450</th>\n",
       "      <td>62.2</td>\n",
       "      <td>54.0</td>\n",
       "      <td>5.24</td>\n",
       "      <td>5.27</td>\n",
       "      <td>3.27</td>\n",
       "      <td>2729</td>\n",
       "      <td>0.54</td>\n",
       "      <td>Ideal</td>\n",
       "      <td>F</td>\n",
       "      <td>IF</td>\n",
       "      <td>Surat</td>\n",
       "    </tr>\n",
       "    <tr>\n",
       "      <th>40451</th>\n",
       "      <td>61.9</td>\n",
       "      <td>54.0</td>\n",
       "      <td>5.22</td>\n",
       "      <td>5.25</td>\n",
       "      <td>3.24</td>\n",
       "      <td>2802</td>\n",
       "      <td>0.53</td>\n",
       "      <td>Ideal</td>\n",
       "      <td>F</td>\n",
       "      <td>IF</td>\n",
       "      <td>Surat</td>\n",
       "    </tr>\n",
       "    <tr>\n",
       "      <th>40452</th>\n",
       "      <td>62.3</td>\n",
       "      <td>55.0</td>\n",
       "      <td>4.30</td>\n",
       "      <td>4.34</td>\n",
       "      <td>2.69</td>\n",
       "      <td>886</td>\n",
       "      <td>0.30</td>\n",
       "      <td>Ideal</td>\n",
       "      <td>F</td>\n",
       "      <td>IF</td>\n",
       "      <td>Surat</td>\n",
       "    </tr>\n",
       "    <tr>\n",
       "      <th>40453</th>\n",
       "      <td>60.9</td>\n",
       "      <td>55.0</td>\n",
       "      <td>4.15</td>\n",
       "      <td>4.23</td>\n",
       "      <td>2.55</td>\n",
       "      <td>768</td>\n",
       "      <td>0.26</td>\n",
       "      <td>Ideal</td>\n",
       "      <td>F</td>\n",
       "      <td>IF</td>\n",
       "      <td>Surat</td>\n",
       "    </tr>\n",
       "    <tr>\n",
       "      <th>40454</th>\n",
       "      <td>61.2</td>\n",
       "      <td>56.0</td>\n",
       "      <td>4.37</td>\n",
       "      <td>4.42</td>\n",
       "      <td>2.69</td>\n",
       "      <td>921</td>\n",
       "      <td>0.31</td>\n",
       "      <td>Ideal</td>\n",
       "      <td>F</td>\n",
       "      <td>IF</td>\n",
       "      <td>Surat</td>\n",
       "    </tr>\n",
       "  </tbody>\n",
       "</table>\n",
       "<p>40425 rows × 11 columns</p>\n",
       "</div>"
      ],
      "text/plain": [
       "       depth  table     x     y     z  price  carat      cut color clarity  \\\n",
       "0       62.4   58.0  6.83  6.79  4.25   4268   1.21  Premium     J     VS2   \n",
       "1       61.6   58.0  6.40  6.35  3.93   3513   1.02  Premium     J     VS2   \n",
       "2       62.3   58.0  5.86  5.80  3.63   1792   0.77  Premium     J     VS2   \n",
       "3       59.6   60.0  7.58  7.48  4.49   7553   1.51  Premium     J     VS2   \n",
       "4       60.2   62.0  5.40  5.33  3.23   1176   0.57  Premium     J     VS2   \n",
       "...      ...    ...   ...   ...   ...    ...    ...      ...   ...     ...   \n",
       "40450   62.2   54.0  5.24  5.27  3.27   2729   0.54    Ideal     F      IF   \n",
       "40451   61.9   54.0  5.22  5.25  3.24   2802   0.53    Ideal     F      IF   \n",
       "40452   62.3   55.0  4.30  4.34  2.69    886   0.30    Ideal     F      IF   \n",
       "40453   60.9   55.0  4.15  4.23  2.55    768   0.26    Ideal     F      IF   \n",
       "40454   61.2   56.0  4.37  4.42  2.69    921   0.31    Ideal     F      IF   \n",
       "\n",
       "        city  \n",
       "0      Dubai  \n",
       "1      Dubai  \n",
       "2      Dubai  \n",
       "3      Dubai  \n",
       "4      Dubai  \n",
       "...      ...  \n",
       "40450  Surat  \n",
       "40451  Surat  \n",
       "40452  Surat  \n",
       "40453  Surat  \n",
       "40454  Surat  \n",
       "\n",
       "[40425 rows x 11 columns]"
      ]
     },
     "metadata": {},
     "execution_count": 81
    }
   ],
   "metadata": {}
  },
  {
   "cell_type": "code",
   "execution_count": 83,
   "source": [
    "df.info()"
   ],
   "outputs": [
    {
     "output_type": "stream",
     "name": "stdout",
     "text": [
      "<class 'pandas.core.frame.DataFrame'>\n",
      "Int64Index: 40425 entries, 0 to 40454\n",
      "Data columns (total 11 columns):\n",
      " #   Column   Non-Null Count  Dtype  \n",
      "---  ------   --------------  -----  \n",
      " 0   depth    40425 non-null  float64\n",
      " 1   table    40425 non-null  float64\n",
      " 2   x        40425 non-null  float64\n",
      " 3   y        40425 non-null  float64\n",
      " 4   z        40425 non-null  float64\n",
      " 5   price    40425 non-null  int64  \n",
      " 6   carat    40425 non-null  float64\n",
      " 7   cut      40425 non-null  object \n",
      " 8   color    40425 non-null  object \n",
      " 9   clarity  40425 non-null  object \n",
      " 10  city     40425 non-null  object \n",
      "dtypes: float64(6), int64(1), object(4)\n",
      "memory usage: 3.7+ MB\n"
     ]
    }
   ],
   "metadata": {}
  },
  {
   "cell_type": "code",
   "execution_count": 84,
   "source": [
    "# Labels are the values we want to predict\n",
    "target = np.array(df['price'])\n",
    "# Remove the labels from the features\n",
    "# axis 1 refers to the columns\n",
    "features= df.drop('price', axis = 1)\n",
    "# Saving feature names for later use\n",
    "feature_list = list(features.columns)\n",
    "# Convert to numpy array\n",
    "#features = np.array(features)\n"
   ],
   "outputs": [],
   "metadata": {}
  },
  {
   "cell_type": "code",
   "execution_count": 85,
   "source": [
    "# categorical features\n",
    "\n",
    "cat_cols=['cut', 'color','clarity', 'city']\n",
    "cat_list = []\n",
    "for col in cat_cols:\n",
    "    cat = df[col].unique()\n",
    "    cat_num = len(cat)\n",
    "    cat_dict = {\"categorical_variable\":col,\n",
    "                \"number_of_possible_values\":cat_num,\n",
    "                \"values\":cat}\n",
    "    cat_list.append(cat_dict)\n",
    "    \n",
    "categories = pd.DataFrame(cat_list).sort_values(by=\"number_of_possible_values\",\n",
    "                                                ascending=False).reset_index(drop=True)\n",
    "categories"
   ],
   "outputs": [
    {
     "output_type": "execute_result",
     "data": {
      "text/html": [
       "<div>\n",
       "<style scoped>\n",
       "    .dataframe tbody tr th:only-of-type {\n",
       "        vertical-align: middle;\n",
       "    }\n",
       "\n",
       "    .dataframe tbody tr th {\n",
       "        vertical-align: top;\n",
       "    }\n",
       "\n",
       "    .dataframe thead th {\n",
       "        text-align: right;\n",
       "    }\n",
       "</style>\n",
       "<table border=\"1\" class=\"dataframe\">\n",
       "  <thead>\n",
       "    <tr style=\"text-align: right;\">\n",
       "      <th></th>\n",
       "      <th>categorical_variable</th>\n",
       "      <th>number_of_possible_values</th>\n",
       "      <th>values</th>\n",
       "    </tr>\n",
       "  </thead>\n",
       "  <tbody>\n",
       "    <tr>\n",
       "      <th>0</th>\n",
       "      <td>city</td>\n",
       "      <td>13</td>\n",
       "      <td>[Dubai, Luxembourg, New York City, Antwerp, Ma...</td>\n",
       "    </tr>\n",
       "    <tr>\n",
       "      <th>1</th>\n",
       "      <td>clarity</td>\n",
       "      <td>8</td>\n",
       "      <td>[VS2, VVS2, SI1, VS1, SI2, I1, VVS1, IF]</td>\n",
       "    </tr>\n",
       "    <tr>\n",
       "      <th>2</th>\n",
       "      <td>color</td>\n",
       "      <td>7</td>\n",
       "      <td>[J, E, I, G, D, H, F]</td>\n",
       "    </tr>\n",
       "    <tr>\n",
       "      <th>3</th>\n",
       "      <td>cut</td>\n",
       "      <td>5</td>\n",
       "      <td>[Premium, Very Good, Fair, Good, Ideal]</td>\n",
       "    </tr>\n",
       "  </tbody>\n",
       "</table>\n",
       "</div>"
      ],
      "text/plain": [
       "  categorical_variable  number_of_possible_values  \\\n",
       "0                 city                         13   \n",
       "1              clarity                          8   \n",
       "2                color                          7   \n",
       "3                  cut                          5   \n",
       "\n",
       "                                              values  \n",
       "0  [Dubai, Luxembourg, New York City, Antwerp, Ma...  \n",
       "1           [VS2, VVS2, SI1, VS1, SI2, I1, VVS1, IF]  \n",
       "2                              [J, E, I, G, D, H, F]  \n",
       "3            [Premium, Very Good, Fair, Good, Ideal]  "
      ]
     },
     "metadata": {},
     "execution_count": 85
    }
   ],
   "metadata": {}
  },
  {
   "cell_type": "markdown",
   "source": [
    "Por el momento, no vamos a tener en cuenta la columna de la ciudad, ya que hay demasiados valores."
   ],
   "metadata": {}
  },
  {
   "cell_type": "code",
   "execution_count": 86,
   "source": [
    "df_one_hot_encoding = pd.get_dummies(features, \n",
    "                                    columns=['cut', 'color','clarity'], \n",
    "                                    drop_first=True)\n",
    "df_one_hot_encoding.drop(labels='city', axis=1, inplace=True)\n",
    "df_one_hot_encoding.head()"
   ],
   "outputs": [
    {
     "output_type": "execute_result",
     "data": {
      "text/html": [
       "<div>\n",
       "<style scoped>\n",
       "    .dataframe tbody tr th:only-of-type {\n",
       "        vertical-align: middle;\n",
       "    }\n",
       "\n",
       "    .dataframe tbody tr th {\n",
       "        vertical-align: top;\n",
       "    }\n",
       "\n",
       "    .dataframe thead th {\n",
       "        text-align: right;\n",
       "    }\n",
       "</style>\n",
       "<table border=\"1\" class=\"dataframe\">\n",
       "  <thead>\n",
       "    <tr style=\"text-align: right;\">\n",
       "      <th></th>\n",
       "      <th>depth</th>\n",
       "      <th>table</th>\n",
       "      <th>x</th>\n",
       "      <th>y</th>\n",
       "      <th>z</th>\n",
       "      <th>carat</th>\n",
       "      <th>cut_Good</th>\n",
       "      <th>cut_Ideal</th>\n",
       "      <th>cut_Premium</th>\n",
       "      <th>cut_Very Good</th>\n",
       "      <th>...</th>\n",
       "      <th>color_H</th>\n",
       "      <th>color_I</th>\n",
       "      <th>color_J</th>\n",
       "      <th>clarity_IF</th>\n",
       "      <th>clarity_SI1</th>\n",
       "      <th>clarity_SI2</th>\n",
       "      <th>clarity_VS1</th>\n",
       "      <th>clarity_VS2</th>\n",
       "      <th>clarity_VVS1</th>\n",
       "      <th>clarity_VVS2</th>\n",
       "    </tr>\n",
       "  </thead>\n",
       "  <tbody>\n",
       "    <tr>\n",
       "      <th>0</th>\n",
       "      <td>62.4</td>\n",
       "      <td>58.0</td>\n",
       "      <td>6.83</td>\n",
       "      <td>6.79</td>\n",
       "      <td>4.25</td>\n",
       "      <td>1.21</td>\n",
       "      <td>0</td>\n",
       "      <td>0</td>\n",
       "      <td>1</td>\n",
       "      <td>0</td>\n",
       "      <td>...</td>\n",
       "      <td>0</td>\n",
       "      <td>0</td>\n",
       "      <td>1</td>\n",
       "      <td>0</td>\n",
       "      <td>0</td>\n",
       "      <td>0</td>\n",
       "      <td>0</td>\n",
       "      <td>1</td>\n",
       "      <td>0</td>\n",
       "      <td>0</td>\n",
       "    </tr>\n",
       "    <tr>\n",
       "      <th>1</th>\n",
       "      <td>61.6</td>\n",
       "      <td>58.0</td>\n",
       "      <td>6.40</td>\n",
       "      <td>6.35</td>\n",
       "      <td>3.93</td>\n",
       "      <td>1.02</td>\n",
       "      <td>0</td>\n",
       "      <td>0</td>\n",
       "      <td>1</td>\n",
       "      <td>0</td>\n",
       "      <td>...</td>\n",
       "      <td>0</td>\n",
       "      <td>0</td>\n",
       "      <td>1</td>\n",
       "      <td>0</td>\n",
       "      <td>0</td>\n",
       "      <td>0</td>\n",
       "      <td>0</td>\n",
       "      <td>1</td>\n",
       "      <td>0</td>\n",
       "      <td>0</td>\n",
       "    </tr>\n",
       "    <tr>\n",
       "      <th>2</th>\n",
       "      <td>62.3</td>\n",
       "      <td>58.0</td>\n",
       "      <td>5.86</td>\n",
       "      <td>5.80</td>\n",
       "      <td>3.63</td>\n",
       "      <td>0.77</td>\n",
       "      <td>0</td>\n",
       "      <td>0</td>\n",
       "      <td>1</td>\n",
       "      <td>0</td>\n",
       "      <td>...</td>\n",
       "      <td>0</td>\n",
       "      <td>0</td>\n",
       "      <td>1</td>\n",
       "      <td>0</td>\n",
       "      <td>0</td>\n",
       "      <td>0</td>\n",
       "      <td>0</td>\n",
       "      <td>1</td>\n",
       "      <td>0</td>\n",
       "      <td>0</td>\n",
       "    </tr>\n",
       "    <tr>\n",
       "      <th>3</th>\n",
       "      <td>59.6</td>\n",
       "      <td>60.0</td>\n",
       "      <td>7.58</td>\n",
       "      <td>7.48</td>\n",
       "      <td>4.49</td>\n",
       "      <td>1.51</td>\n",
       "      <td>0</td>\n",
       "      <td>0</td>\n",
       "      <td>1</td>\n",
       "      <td>0</td>\n",
       "      <td>...</td>\n",
       "      <td>0</td>\n",
       "      <td>0</td>\n",
       "      <td>1</td>\n",
       "      <td>0</td>\n",
       "      <td>0</td>\n",
       "      <td>0</td>\n",
       "      <td>0</td>\n",
       "      <td>1</td>\n",
       "      <td>0</td>\n",
       "      <td>0</td>\n",
       "    </tr>\n",
       "    <tr>\n",
       "      <th>4</th>\n",
       "      <td>60.2</td>\n",
       "      <td>62.0</td>\n",
       "      <td>5.40</td>\n",
       "      <td>5.33</td>\n",
       "      <td>3.23</td>\n",
       "      <td>0.57</td>\n",
       "      <td>0</td>\n",
       "      <td>0</td>\n",
       "      <td>1</td>\n",
       "      <td>0</td>\n",
       "      <td>...</td>\n",
       "      <td>0</td>\n",
       "      <td>0</td>\n",
       "      <td>1</td>\n",
       "      <td>0</td>\n",
       "      <td>0</td>\n",
       "      <td>0</td>\n",
       "      <td>0</td>\n",
       "      <td>1</td>\n",
       "      <td>0</td>\n",
       "      <td>0</td>\n",
       "    </tr>\n",
       "  </tbody>\n",
       "</table>\n",
       "<p>5 rows × 23 columns</p>\n",
       "</div>"
      ],
      "text/plain": [
       "   depth  table     x     y     z  carat  cut_Good  cut_Ideal  cut_Premium  \\\n",
       "0   62.4   58.0  6.83  6.79  4.25   1.21         0          0            1   \n",
       "1   61.6   58.0  6.40  6.35  3.93   1.02         0          0            1   \n",
       "2   62.3   58.0  5.86  5.80  3.63   0.77         0          0            1   \n",
       "3   59.6   60.0  7.58  7.48  4.49   1.51         0          0            1   \n",
       "4   60.2   62.0  5.40  5.33  3.23   0.57         0          0            1   \n",
       "\n",
       "   cut_Very Good  ...  color_H  color_I  color_J  clarity_IF  clarity_SI1  \\\n",
       "0              0  ...        0        0        1           0            0   \n",
       "1              0  ...        0        0        1           0            0   \n",
       "2              0  ...        0        0        1           0            0   \n",
       "3              0  ...        0        0        1           0            0   \n",
       "4              0  ...        0        0        1           0            0   \n",
       "\n",
       "   clarity_SI2  clarity_VS1  clarity_VS2  clarity_VVS1  clarity_VVS2  \n",
       "0            0            0            1             0             0  \n",
       "1            0            0            1             0             0  \n",
       "2            0            0            1             0             0  \n",
       "3            0            0            1             0             0  \n",
       "4            0            0            1             0             0  \n",
       "\n",
       "[5 rows x 23 columns]"
      ]
     },
     "metadata": {},
     "execution_count": 86
    }
   ],
   "metadata": {}
  },
  {
   "cell_type": "code",
   "execution_count": 87,
   "source": [
    "# Train and test datasets\n",
    "\n",
    "X_train, X_test, y_train, y_test = train_test_split(df_one_hot_encoding, target, test_size=0.15, random_state=42)\n",
    "print(f\"X_train: {X_train.shape}, X_test: {X_test.shape}, y_train: {y_train.shape}, y_test: {y_test.shape}\")\n"
   ],
   "outputs": [
    {
     "output_type": "stream",
     "name": "stdout",
     "text": [
      "X_train: (34361, 23), X_test: (6064, 23), y_train: (34361,), y_test: (6064,)\n"
     ]
    }
   ],
   "metadata": {}
  },
  {
   "cell_type": "code",
   "execution_count": 88,
   "source": [
    "df_one_hot_encoding.columns"
   ],
   "outputs": [
    {
     "output_type": "execute_result",
     "data": {
      "text/plain": [
       "Index(['depth', 'table', 'x', 'y', 'z', 'carat', 'cut_Good', 'cut_Ideal',\n",
       "       'cut_Premium', 'cut_Very Good', 'color_E', 'color_F', 'color_G',\n",
       "       'color_H', 'color_I', 'color_J', 'clarity_IF', 'clarity_SI1',\n",
       "       'clarity_SI2', 'clarity_VS1', 'clarity_VS2', 'clarity_VVS1',\n",
       "       'clarity_VVS2'],\n",
       "      dtype='object')"
      ]
     },
     "metadata": {},
     "execution_count": 88
    }
   ],
   "metadata": {}
  },
  {
   "cell_type": "code",
   "execution_count": 101,
   "source": [
    "# Model definition\n",
    "\n",
    "#model = linear_model.Lasso()\n",
    "#model = ElasticNet()\n",
    "#model = Ridge()\n",
    "#model = SVR()\n",
    "#model = SGDRegressor()\n",
    "#model = LinearRegression()\n",
    "model=RandomForestRegressor()\n",
    "\n"
   ],
   "outputs": [],
   "metadata": {}
  },
  {
   "cell_type": "code",
   "execution_count": 102,
   "source": [
    "# Model training\n",
    "model.fit(X_train, y_train)"
   ],
   "outputs": [
    {
     "output_type": "execute_result",
     "data": {
      "text/plain": [
       "RandomForestRegressor()"
      ]
     },
     "metadata": {},
     "execution_count": 102
    }
   ],
   "metadata": {}
  },
  {
   "cell_type": "code",
   "execution_count": 103,
   "source": [
    "# Model predictions\n",
    "\n",
    "y_pred = model.predict(X_test)\n",
    "y_pred"
   ],
   "outputs": [
    {
     "output_type": "execute_result",
     "data": {
      "text/plain": [
       "array([ 560.62, 1245.35, 3993.18, ..., 1081.2 ,  571.55, 1439.87])"
      ]
     },
     "metadata": {},
     "execution_count": 103
    }
   ],
   "metadata": {}
  },
  {
   "cell_type": "code",
   "execution_count": 104,
   "source": [
    "# Visual check\n",
    "\n",
    "rmse = mean_squared_error(y_test, y_pred)**0.5\n",
    "rmse"
   ],
   "outputs": [
    {
     "output_type": "execute_result",
     "data": {
      "text/plain": [
       "631.870764632403"
      ]
     },
     "metadata": {},
     "execution_count": 104
    }
   ],
   "metadata": {}
  },
  {
   "cell_type": "code",
   "execution_count": 99,
   "source": [
    "model.fit(df_one_hot_encoding,target) #Volvemos a entrenar el modelo con el datframe original (sin la separacion de train y test), para tener mas datos en el entreno"
   ],
   "outputs": [
    {
     "output_type": "stream",
     "name": "stderr",
     "text": [
      "/Users/ivan.repilado/miniconda3/envs/ironhack/lib/python3.7/site-packages/sklearn/linear_model/_coordinate_descent.py:648: ConvergenceWarning: Objective did not converge. You might want to increase the number of iterations, check the scale of the features or consider increasing regularisation. Duality gap: 4.264e+09, tolerance: 6.436e+07\n",
      "  coef_, l1_reg, l2_reg, X, y, max_iter, tol, rng, random, positive\n"
     ]
    },
    {
     "output_type": "execute_result",
     "data": {
      "text/plain": [
       "Lasso()"
      ]
     },
     "metadata": {},
     "execution_count": 99
    }
   ],
   "metadata": {}
  },
  {
   "cell_type": "code",
   "execution_count": 105,
   "source": [
    "# Get numerical feature importances\n",
    "importances = list(model.feature_importances_)\n",
    "\n",
    "# List of tuples with variable and importance\n",
    "feature_importances = [(feature, round(importance, 4)) for feature, importance in zip(feature_list, importances)]\n",
    "\n",
    "# Sort the feature importances by most important first\n",
    "feature_importances = sorted(feature_importances, key = lambda x: x[1], reverse = True)\n",
    "\n",
    "# Print out the feature and importances \n",
    "[print('Variable: {:20} Importance: {}'.format(*pair)) for pair in feature_importances];\n"
   ],
   "outputs": [
    {
     "output_type": "stream",
     "name": "stdout",
     "text": [
      "Variable: y                    Importance: 0.4768\n",
      "Variable: carat                Importance: 0.4113\n",
      "Variable: x                    Importance: 0.0068\n",
      "Variable: z                    Importance: 0.0068\n",
      "Variable: depth                Importance: 0.0059\n",
      "Variable: table                Importance: 0.0031\n",
      "Variable: color                Importance: 0.001\n",
      "Variable: clarity              Importance: 0.0004\n",
      "Variable: city                 Importance: 0.0004\n",
      "Variable: cut                  Importance: 0.0003\n"
     ]
    }
   ],
   "metadata": {}
  },
  {
   "cell_type": "markdown",
   "source": [
    "Tal y como vemos, las únicas dos columnas que aportan un alto valor son los quilates y la dimensión y, por lo que pasamos a hacer de nuevo los cáclulos solo con estas dos columnas."
   ],
   "metadata": {}
  },
  {
   "cell_type": "code",
   "execution_count": 122,
   "source": [
    "# New random forest with only the two most important variables\n",
    "\n",
    "model_most_important = RandomForestRegressor()\n",
    "\n",
    "# Extract the two most important features\n",
    "X_train_important = X_train[['y','carat']]\n",
    "X_test_important = X_test[['y','carat']]\n",
    "\n",
    "# Train the random forest\n",
    "model_most_important.fit(X_train_important, y_train)\n",
    "\n",
    "# Make predictions and determine the error\n",
    "predictions = model_most_important.predict(X_test_important)\n"
   ],
   "outputs": [],
   "metadata": {}
  },
  {
   "cell_type": "code",
   "execution_count": 123,
   "source": [
    "rmse = mean_squared_error(y_test, predictions)**0.5\n",
    "rmse"
   ],
   "outputs": [
    {
     "output_type": "execute_result",
     "data": {
      "text/plain": [
       "1429.8055426040135"
      ]
     },
     "metadata": {},
     "execution_count": 123
    }
   ],
   "metadata": {}
  },
  {
   "cell_type": "markdown",
   "source": [
    "Tal y como vemos, el RMSE empeora bastante, por lo que descartamos la idea de quedarnos solo con las dos columnas mas importantes.\n",
    "Además, una vez subido a Kaggle también vemos que el resultado es bastante malo.\n"
   ],
   "metadata": {}
  },
  {
   "cell_type": "markdown",
   "source": [],
   "metadata": {}
  },
  {
   "cell_type": "markdown",
   "source": [],
   "metadata": {}
  },
  {
   "cell_type": "code",
   "execution_count": null,
   "source": [],
   "outputs": [],
   "metadata": {}
  }
 ],
 "metadata": {
  "orig_nbformat": 4,
  "language_info": {
   "name": "python",
   "version": "3.7.12",
   "mimetype": "text/x-python",
   "codemirror_mode": {
    "name": "ipython",
    "version": 3
   },
   "pygments_lexer": "ipython3",
   "nbconvert_exporter": "python",
   "file_extension": ".py"
  },
  "kernelspec": {
   "name": "python3",
   "display_name": "Python 3.7.12 64-bit ('ironhack': conda)"
  },
  "interpreter": {
   "hash": "191fdcd26a5ca84f58a127ef5d594d6ffcc31ee3b3ca4138998a92c0047be3f6"
  }
 },
 "nbformat": 4,
 "nbformat_minor": 2
}