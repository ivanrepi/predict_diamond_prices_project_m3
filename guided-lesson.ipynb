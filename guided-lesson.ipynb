{
 "cells": [
  {
   "cell_type": "markdown",
   "metadata": {},
   "source": [
    "<div style=\"float:right; padding-top: 15px; padding-right: 15px\">\n",
    "    <div>\n",
    "        <a href=\"https://whiteboxml.com\">\n",
    "            <img src=\"https://whiteboxml.com/static/img/logo/black_bg_white.svg\" width=\"250\">\n",
    "        </a>\n",
    "    </div>\n",
    "</div>"
   ]
  },
  {
   "cell_type": "markdown",
   "metadata": {},
   "source": [
    "## 0. python imports & setup"
   ]
  },
  {
   "cell_type": "markdown",
   "metadata": {},
   "source": [
    "for learning purposes, libraries will be imported inside its corresponding usage section..."
   ]
  },
  {
   "cell_type": "markdown",
   "metadata": {},
   "source": [
    "## 1. data loading"
   ]
  },
  {
   "cell_type": "code",
   "execution_count": 7,
   "metadata": {},
   "outputs": [],
   "source": [
    "import random\n",
    "import pandas as pd\n",
    "import numpy as np"
   ]
  },
  {
   "cell_type": "code",
   "execution_count": 8,
   "metadata": {},
   "outputs": [],
   "source": [
    "def rolling_a_dice(x):\n",
    "    dice_options = [1,2,3,4,5,6]\n",
    "    dice_results = random.choices(dice_options, k=x)\n",
    "    return pd.DataFrame(dice_results, columns=['results'])\n",
    "\n",
    "dice_df = rolling_a_dice(10)"
   ]
  },
  {
   "cell_type": "code",
   "execution_count": 9,
   "metadata": {},
   "outputs": [
    {
     "data": {
      "text/html": [
       "<div>\n",
       "<style scoped>\n",
       "    .dataframe tbody tr th:only-of-type {\n",
       "        vertical-align: middle;\n",
       "    }\n",
       "\n",
       "    .dataframe tbody tr th {\n",
       "        vertical-align: top;\n",
       "    }\n",
       "\n",
       "    .dataframe thead th {\n",
       "        text-align: right;\n",
       "    }\n",
       "</style>\n",
       "<table border=\"1\" class=\"dataframe\">\n",
       "  <thead>\n",
       "    <tr style=\"text-align: right;\">\n",
       "      <th></th>\n",
       "      <th>results</th>\n",
       "    </tr>\n",
       "  </thead>\n",
       "  <tbody>\n",
       "    <tr>\n",
       "      <th>0</th>\n",
       "      <td>1</td>\n",
       "    </tr>\n",
       "    <tr>\n",
       "      <th>1</th>\n",
       "      <td>6</td>\n",
       "    </tr>\n",
       "    <tr>\n",
       "      <th>2</th>\n",
       "      <td>4</td>\n",
       "    </tr>\n",
       "    <tr>\n",
       "      <th>3</th>\n",
       "      <td>4</td>\n",
       "    </tr>\n",
       "    <tr>\n",
       "      <th>4</th>\n",
       "      <td>2</td>\n",
       "    </tr>\n",
       "    <tr>\n",
       "      <th>5</th>\n",
       "      <td>1</td>\n",
       "    </tr>\n",
       "    <tr>\n",
       "      <th>6</th>\n",
       "      <td>3</td>\n",
       "    </tr>\n",
       "    <tr>\n",
       "      <th>7</th>\n",
       "      <td>5</td>\n",
       "    </tr>\n",
       "    <tr>\n",
       "      <th>8</th>\n",
       "      <td>5</td>\n",
       "    </tr>\n",
       "    <tr>\n",
       "      <th>9</th>\n",
       "      <td>6</td>\n",
       "    </tr>\n",
       "  </tbody>\n",
       "</table>\n",
       "</div>"
      ],
      "text/plain": [
       "   results\n",
       "0        1\n",
       "1        6\n",
       "2        4\n",
       "3        4\n",
       "4        2\n",
       "5        1\n",
       "6        3\n",
       "7        5\n",
       "8        5\n",
       "9        6"
      ]
     },
     "execution_count": 9,
     "metadata": {},
     "output_type": "execute_result"
    }
   ],
   "source": [
    "dice_df"
   ]
  },
  {
   "cell_type": "code",
   "execution_count": 10,
   "metadata": {},
   "outputs": [
    {
     "data": {
      "text/plain": [
       "<AxesSubplot:>"
      ]
     },
     "execution_count": 10,
     "metadata": {},
     "output_type": "execute_result"
    },
    {
     "data": {
      "image/png": "[encoded data removed]",
      "text/plain": [
       "<Figure size 432x288 with 1 Axes>"
      ]
     },
     "metadata": {
      "needs_background": "light"
     },
     "output_type": "display_data"
    }
   ],
   "source": [
    "dice_df.sort_values(by='results', ascending=False).plot.bar()"
   ]
  },
  {
   "cell_type": "markdown",
   "metadata": {},
   "source": [
    "* diamonds: labeled data we can use for training and testing\n",
    "* diamonds_predict: diamonds to predict its price and upload result to Kaggle"
   ]
  },
  {
   "cell_type": "code",
   "execution_count": 11,
   "metadata": {},
   "outputs": [],
   "source": [
    "diamonds = pd.read_csv('../data/diamonds_train.csv')\n",
    "diamonds_predict = pd.read_csv('../data/diamonds_predict.csv')"
   ]
  },
  {
   "cell_type": "code",
   "execution_count": 12,
   "metadata": {},
   "outputs": [
    {
     "data": {
      "text/html": [
       "<div>\n",
       "<style scoped>\n",
       "    .dataframe tbody tr th:only-of-type {\n",
       "        vertical-align: middle;\n",
       "    }\n",
       "\n",
       "    .dataframe tbody tr th {\n",
       "        vertical-align: top;\n",
       "    }\n",
       "\n",
       "    .dataframe thead th {\n",
       "        text-align: right;\n",
       "    }\n",
       "</style>\n",
       "<table border=\"1\" class=\"dataframe\">\n",
       "  <thead>\n",
       "    <tr style=\"text-align: right;\">\n",
       "      <th></th>\n",
       "      <th>0</th>\n",
       "      <th>1</th>\n",
       "      <th>2</th>\n",
       "      <th>3</th>\n",
       "      <th>4</th>\n",
       "    </tr>\n",
       "  </thead>\n",
       "  <tbody>\n",
       "    <tr>\n",
       "      <th>carat</th>\n",
       "      <td>1.21</td>\n",
       "      <td>0.32</td>\n",
       "      <td>0.71</td>\n",
       "      <td>0.41</td>\n",
       "      <td>1.02</td>\n",
       "    </tr>\n",
       "    <tr>\n",
       "      <th>cut</th>\n",
       "      <td>Premium</td>\n",
       "      <td>Very Good</td>\n",
       "      <td>Fair</td>\n",
       "      <td>Good</td>\n",
       "      <td>Ideal</td>\n",
       "    </tr>\n",
       "    <tr>\n",
       "      <th>color</th>\n",
       "      <td>J</td>\n",
       "      <td>H</td>\n",
       "      <td>G</td>\n",
       "      <td>D</td>\n",
       "      <td>G</td>\n",
       "    </tr>\n",
       "    <tr>\n",
       "      <th>clarity</th>\n",
       "      <td>VS2</td>\n",
       "      <td>VS2</td>\n",
       "      <td>VS1</td>\n",
       "      <td>SI1</td>\n",
       "      <td>SI1</td>\n",
       "    </tr>\n",
       "    <tr>\n",
       "      <th>depth</th>\n",
       "      <td>62.4</td>\n",
       "      <td>63.0</td>\n",
       "      <td>65.5</td>\n",
       "      <td>63.8</td>\n",
       "      <td>60.5</td>\n",
       "    </tr>\n",
       "    <tr>\n",
       "      <th>table</th>\n",
       "      <td>58.0</td>\n",
       "      <td>57.0</td>\n",
       "      <td>55.0</td>\n",
       "      <td>56.0</td>\n",
       "      <td>59.0</td>\n",
       "    </tr>\n",
       "    <tr>\n",
       "      <th>price</th>\n",
       "      <td>4268</td>\n",
       "      <td>505</td>\n",
       "      <td>2686</td>\n",
       "      <td>738</td>\n",
       "      <td>4882</td>\n",
       "    </tr>\n",
       "    <tr>\n",
       "      <th>x</th>\n",
       "      <td>6.83</td>\n",
       "      <td>4.35</td>\n",
       "      <td>5.62</td>\n",
       "      <td>4.68</td>\n",
       "      <td>6.55</td>\n",
       "    </tr>\n",
       "    <tr>\n",
       "      <th>y</th>\n",
       "      <td>6.79</td>\n",
       "      <td>4.38</td>\n",
       "      <td>5.53</td>\n",
       "      <td>4.72</td>\n",
       "      <td>6.51</td>\n",
       "    </tr>\n",
       "    <tr>\n",
       "      <th>z</th>\n",
       "      <td>4.25</td>\n",
       "      <td>2.75</td>\n",
       "      <td>3.65</td>\n",
       "      <td>3.0</td>\n",
       "      <td>3.95</td>\n",
       "    </tr>\n",
       "  </tbody>\n",
       "</table>\n",
       "</div>"
      ],
      "text/plain": [
       "               0          1     2     3      4\n",
       "carat       1.21       0.32  0.71  0.41   1.02\n",
       "cut      Premium  Very Good  Fair  Good  Ideal\n",
       "color          J          H     G     D      G\n",
       "clarity      VS2        VS2   VS1   SI1    SI1\n",
       "depth       62.4       63.0  65.5  63.8   60.5\n",
       "table       58.0       57.0  55.0  56.0   59.0\n",
       "price       4268        505  2686   738   4882\n",
       "x           6.83       4.35  5.62  4.68   6.55\n",
       "y           6.79       4.38  5.53  4.72   6.51\n",
       "z           4.25       2.75  3.65   3.0   3.95"
      ]
     },
     "execution_count": 12,
     "metadata": {},
     "output_type": "execute_result"
    }
   ],
   "source": [
    "diamonds.head().T"
   ]
  },
  {
   "cell_type": "markdown",
   "metadata": {},
   "source": [
    "as you can see, there are both categorical and numerical columns..."
   ]
  },
  {
   "cell_type": "markdown",
   "metadata": {},
   "source": [
    "## 2. eda"
   ]
  },
  {
   "cell_type": "markdown",
   "metadata": {},
   "source": [
    "this section is up to you! this guided lesson is about a machine learning pipeline..."
   ]
  },
  {
   "cell_type": "markdown",
   "metadata": {},
   "source": [
    "## 3. ml preprocessing"
   ]
  },
  {
   "cell_type": "markdown",
   "metadata": {},
   "source": [
    "in this section I will teach how to use scikit-learn's Pipiline and ColumnTransformer, one of the best practices for composing preprocessing and modeling in a single and elegand class... pay attention as it is hard to understand..."
   ]
  },
  {
   "cell_type": "code",
   "execution_count": 13,
   "metadata": {},
   "outputs": [],
   "source": [
    "from sklearn.pipeline import Pipeline\n",
    "from sklearn.compose import ColumnTransformer\n",
    "from sklearn.impute import SimpleImputer\n",
    "from sklearn.preprocessing import StandardScaler\n",
    "from sklearn.preprocessing import OneHotEncoder, OrdinalEncoder"
   ]
  },
  {
   "cell_type": "markdown",
   "metadata": {},
   "source": [
    "* https://scikit-learn.org/stable/modules/generated/sklearn.pipeline.Pipeline.html\n",
    "* https://scikit-learn.org/stable/modules/generated/sklearn.impute.SimpleImputer.html#sklearn.impute.SimpleImputer\n",
    "* https://scikit-learn.org/stable/modules/generated/sklearn.preprocessing.StandardScaler.html\n",
    "* https://scikit-learn.org/stable/modules/generated/sklearn.preprocessing.OneHotEncoder.html"
   ]
  },
  {
   "cell_type": "markdown",
   "metadata": {},
   "source": [
    "let's identify numerical and categorical features..."
   ]
  },
  {
   "cell_type": "code",
   "execution_count": 14,
   "metadata": {},
   "outputs": [],
   "source": [
    "NUM_FEATS = ['carat', 'depth', 'table', 'x', 'y', 'z']\n",
    "CAT_FEATS = ['cut', 'color', 'clarity']\n",
    "FEATS = NUM_FEATS + CAT_FEATS\n",
    "TARGET = 'price'"
   ]
  },
  {
   "cell_type": "markdown",
   "metadata": {},
   "source": [
    "let's define a preprocessing transformer for numerical columns..."
   ]
  },
  {
   "cell_type": "code",
   "execution_count": 15,
   "metadata": {},
   "outputs": [],
   "source": [
    "numeric_transformer = \\\n",
    "Pipeline(steps=[('imputer', SimpleImputer(strategy='median')), \n",
    "                ('scaler', StandardScaler())])"
   ]
  },
  {
   "cell_type": "markdown",
   "metadata": {},
   "source": [
    "let's define a preprocessing transformer for categorical columns..."
   ]
  },
  {
   "cell_type": "code",
   "execution_count": 16,
   "metadata": {},
   "outputs": [],
   "source": [
    "categorical_transformer = \\\n",
    "Pipeline(steps=[('imputer', SimpleImputer(strategy='constant', fill_value='missing')),\n",
    "                ('onehot', OneHotEncoder(handle_unknown='ignore'))])"
   ]
  },
  {
   "cell_type": "markdown",
   "metadata": {},
   "source": [
    "let's join these transformers using a `ColumnTransformer`:"
   ]
  },
  {
   "cell_type": "code",
   "execution_count": 17,
   "metadata": {},
   "outputs": [],
   "source": [
    "preprocessor = \\\n",
    "ColumnTransformer(transformers=[('num', numeric_transformer, NUM_FEATS),\n",
    "                                ('cat', categorical_transformer, CAT_FEATS)])"
   ]
  },
  {
   "cell_type": "markdown",
   "metadata": {},
   "source": [
    "inspecting the full preprocessor:"
   ]
  },
  {
   "cell_type": "code",
   "execution_count": 18,
   "metadata": {},
   "outputs": [
    {
     "data": {
      "text/plain": [
       "ColumnTransformer(transformers=[('num',\n",
       "                                 Pipeline(steps=[('imputer',\n",
       "                                                  SimpleImputer(strategy='median')),\n",
       "                                                 ('scaler', StandardScaler())]),\n",
       "                                 ['carat', 'depth', 'table', 'x', 'y', 'z']),\n",
       "                                ('cat',\n",
       "                                 Pipeline(steps=[('imputer',\n",
       "                                                  SimpleImputer(fill_value='missing',\n",
       "                                                                strategy='constant')),\n",
       "                                                 ('onehot',\n",
       "                                                  OneHotEncoder(handle_unknown='ignore'))]),\n",
       "                                 ['cut', 'color', 'clarity'])])"
      ]
     },
     "execution_count": 18,
     "metadata": {},
     "output_type": "execute_result"
    }
   ],
   "source": [
    "preprocessor"
   ]
  },
  {
   "cell_type": "code",
   "execution_count": 23,
   "metadata": {},
   "outputs": [
    {
     "data": {
      "text/html": [
       "<div>\n",
       "<style scoped>\n",
       "    .dataframe tbody tr th:only-of-type {\n",
       "        vertical-align: middle;\n",
       "    }\n",
       "\n",
       "    .dataframe tbody tr th {\n",
       "        vertical-align: top;\n",
       "    }\n",
       "\n",
       "    .dataframe thead th {\n",
       "        text-align: right;\n",
       "    }\n",
       "</style>\n",
       "<table border=\"1\" class=\"dataframe\">\n",
       "  <thead>\n",
       "    <tr style=\"text-align: right;\">\n",
       "      <th></th>\n",
       "      <th>carat</th>\n",
       "      <th>cut</th>\n",
       "      <th>color</th>\n",
       "      <th>clarity</th>\n",
       "      <th>depth</th>\n",
       "      <th>table</th>\n",
       "      <th>price</th>\n",
       "      <th>x</th>\n",
       "      <th>y</th>\n",
       "      <th>z</th>\n",
       "    </tr>\n",
       "  </thead>\n",
       "  <tbody>\n",
       "    <tr>\n",
       "      <th>0</th>\n",
       "      <td>1.21</td>\n",
       "      <td>Premium</td>\n",
       "      <td>J</td>\n",
       "      <td>VS2</td>\n",
       "      <td>62.4</td>\n",
       "      <td>58.0</td>\n",
       "      <td>4268</td>\n",
       "      <td>6.83</td>\n",
       "      <td>6.79</td>\n",
       "      <td>4.25</td>\n",
       "    </tr>\n",
       "    <tr>\n",
       "      <th>1</th>\n",
       "      <td>0.32</td>\n",
       "      <td>Very Good</td>\n",
       "      <td>H</td>\n",
       "      <td>VS2</td>\n",
       "      <td>63.0</td>\n",
       "      <td>57.0</td>\n",
       "      <td>505</td>\n",
       "      <td>4.35</td>\n",
       "      <td>4.38</td>\n",
       "      <td>2.75</td>\n",
       "    </tr>\n",
       "    <tr>\n",
       "      <th>2</th>\n",
       "      <td>0.71</td>\n",
       "      <td>Fair</td>\n",
       "      <td>G</td>\n",
       "      <td>VS1</td>\n",
       "      <td>65.5</td>\n",
       "      <td>55.0</td>\n",
       "      <td>2686</td>\n",
       "      <td>5.62</td>\n",
       "      <td>5.53</td>\n",
       "      <td>3.65</td>\n",
       "    </tr>\n",
       "    <tr>\n",
       "      <th>3</th>\n",
       "      <td>0.41</td>\n",
       "      <td>Good</td>\n",
       "      <td>D</td>\n",
       "      <td>SI1</td>\n",
       "      <td>63.8</td>\n",
       "      <td>56.0</td>\n",
       "      <td>738</td>\n",
       "      <td>4.68</td>\n",
       "      <td>4.72</td>\n",
       "      <td>3.00</td>\n",
       "    </tr>\n",
       "    <tr>\n",
       "      <th>4</th>\n",
       "      <td>1.02</td>\n",
       "      <td>Ideal</td>\n",
       "      <td>G</td>\n",
       "      <td>SI1</td>\n",
       "      <td>60.5</td>\n",
       "      <td>59.0</td>\n",
       "      <td>4882</td>\n",
       "      <td>6.55</td>\n",
       "      <td>6.51</td>\n",
       "      <td>3.95</td>\n",
       "    </tr>\n",
       "    <tr>\n",
       "      <th>...</th>\n",
       "      <td>...</td>\n",
       "      <td>...</td>\n",
       "      <td>...</td>\n",
       "      <td>...</td>\n",
       "      <td>...</td>\n",
       "      <td>...</td>\n",
       "      <td>...</td>\n",
       "      <td>...</td>\n",
       "      <td>...</td>\n",
       "      <td>...</td>\n",
       "    </tr>\n",
       "    <tr>\n",
       "      <th>40450</th>\n",
       "      <td>1.34</td>\n",
       "      <td>Ideal</td>\n",
       "      <td>G</td>\n",
       "      <td>VS1</td>\n",
       "      <td>62.7</td>\n",
       "      <td>57.0</td>\n",
       "      <td>10070</td>\n",
       "      <td>7.10</td>\n",
       "      <td>7.04</td>\n",
       "      <td>4.43</td>\n",
       "    </tr>\n",
       "    <tr>\n",
       "      <th>40451</th>\n",
       "      <td>2.02</td>\n",
       "      <td>Good</td>\n",
       "      <td>F</td>\n",
       "      <td>SI2</td>\n",
       "      <td>57.1</td>\n",
       "      <td>60.0</td>\n",
       "      <td>12615</td>\n",
       "      <td>8.31</td>\n",
       "      <td>8.25</td>\n",
       "      <td>4.73</td>\n",
       "    </tr>\n",
       "    <tr>\n",
       "      <th>40452</th>\n",
       "      <td>1.01</td>\n",
       "      <td>Ideal</td>\n",
       "      <td>H</td>\n",
       "      <td>SI1</td>\n",
       "      <td>62.7</td>\n",
       "      <td>56.0</td>\n",
       "      <td>5457</td>\n",
       "      <td>6.37</td>\n",
       "      <td>6.42</td>\n",
       "      <td>4.01</td>\n",
       "    </tr>\n",
       "    <tr>\n",
       "      <th>40453</th>\n",
       "      <td>0.33</td>\n",
       "      <td>Ideal</td>\n",
       "      <td>J</td>\n",
       "      <td>VS1</td>\n",
       "      <td>61.9</td>\n",
       "      <td>54.3</td>\n",
       "      <td>456</td>\n",
       "      <td>4.45</td>\n",
       "      <td>4.47</td>\n",
       "      <td>2.76</td>\n",
       "    </tr>\n",
       "    <tr>\n",
       "      <th>40454</th>\n",
       "      <td>1.24</td>\n",
       "      <td>Ideal</td>\n",
       "      <td>I</td>\n",
       "      <td>SI1</td>\n",
       "      <td>62.0</td>\n",
       "      <td>58.0</td>\n",
       "      <td>6232</td>\n",
       "      <td>6.83</td>\n",
       "      <td>6.88</td>\n",
       "      <td>4.25</td>\n",
       "    </tr>\n",
       "  </tbody>\n",
       "</table>\n",
       "<p>40455 rows × 10 columns</p>\n",
       "</div>"
      ],
      "text/plain": [
       "       carat        cut color clarity  depth  table  price     x     y     z\n",
       "0       1.21    Premium     J     VS2   62.4   58.0   4268  6.83  6.79  4.25\n",
       "1       0.32  Very Good     H     VS2   63.0   57.0    505  4.35  4.38  2.75\n",
       "2       0.71       Fair     G     VS1   65.5   55.0   2686  5.62  5.53  3.65\n",
       "3       0.41       Good     D     SI1   63.8   56.0    738  4.68  4.72  3.00\n",
       "4       1.02      Ideal     G     SI1   60.5   59.0   4882  6.55  6.51  3.95\n",
       "...      ...        ...   ...     ...    ...    ...    ...   ...   ...   ...\n",
       "40450   1.34      Ideal     G     VS1   62.7   57.0  10070  7.10  7.04  4.43\n",
       "40451   2.02       Good     F     SI2   57.1   60.0  12615  8.31  8.25  4.73\n",
       "40452   1.01      Ideal     H     SI1   62.7   56.0   5457  6.37  6.42  4.01\n",
       "40453   0.33      Ideal     J     VS1   61.9   54.3    456  4.45  4.47  2.76\n",
       "40454   1.24      Ideal     I     SI1   62.0   58.0   6232  6.83  6.88  4.25\n",
       "\n",
       "[40455 rows x 10 columns]"
      ]
     },
     "execution_count": 23,
     "metadata": {},
     "output_type": "execute_result"
    }
   ],
   "source": [
    "diamonds"
   ]
  },
  {
   "cell_type": "markdown",
   "metadata": {},
   "source": [
    "how does this preprocessing looks like?"
   ]
  },
  {
   "cell_type": "markdown",
   "metadata": {},
   "source": [
    "at least in this case, it is at the cost of interpretability of transformed DataFrame..."
   ]
  },
  {
   "cell_type": "code",
   "execution_count": 22,
   "metadata": {},
   "outputs": [
    {
     "data": {
      "text/html": [
       "<div>\n",
       "<style scoped>\n",
       "    .dataframe tbody tr th:only-of-type {\n",
       "        vertical-align: middle;\n",
       "    }\n",
       "\n",
       "    .dataframe tbody tr th {\n",
       "        vertical-align: top;\n",
       "    }\n",
       "\n",
       "    .dataframe thead th {\n",
       "        text-align: right;\n",
       "    }\n",
       "</style>\n",
       "<table border=\"1\" class=\"dataframe\">\n",
       "  <thead>\n",
       "    <tr style=\"text-align: right;\">\n",
       "      <th></th>\n",
       "      <th>0</th>\n",
       "      <th>1</th>\n",
       "      <th>2</th>\n",
       "      <th>3</th>\n",
       "      <th>4</th>\n",
       "      <th>5</th>\n",
       "      <th>6</th>\n",
       "      <th>7</th>\n",
       "      <th>8</th>\n",
       "      <th>9</th>\n",
       "      <th>...</th>\n",
       "      <th>16</th>\n",
       "      <th>17</th>\n",
       "      <th>18</th>\n",
       "      <th>19</th>\n",
       "      <th>20</th>\n",
       "      <th>21</th>\n",
       "      <th>22</th>\n",
       "      <th>23</th>\n",
       "      <th>24</th>\n",
       "      <th>25</th>\n",
       "    </tr>\n",
       "  </thead>\n",
       "  <tbody>\n",
       "    <tr>\n",
       "      <th>0</th>\n",
       "      <td>0.867006</td>\n",
       "      <td>0.452019</td>\n",
       "      <td>0.247981</td>\n",
       "      <td>0.978807</td>\n",
       "      <td>0.921985</td>\n",
       "      <td>1.022657</td>\n",
       "      <td>0.0</td>\n",
       "      <td>0.0</td>\n",
       "      <td>0.0</td>\n",
       "      <td>1.0</td>\n",
       "      <td>...</td>\n",
       "      <td>0.0</td>\n",
       "      <td>1.0</td>\n",
       "      <td>0.0</td>\n",
       "      <td>0.0</td>\n",
       "      <td>0.0</td>\n",
       "      <td>0.0</td>\n",
       "      <td>0.0</td>\n",
       "      <td>1.0</td>\n",
       "      <td>0.0</td>\n",
       "      <td>0.0</td>\n",
       "    </tr>\n",
       "    <tr>\n",
       "      <th>1</th>\n",
       "      <td>-1.004557</td>\n",
       "      <td>0.871099</td>\n",
       "      <td>-0.199745</td>\n",
       "      <td>-1.226738</td>\n",
       "      <td>-1.179816</td>\n",
       "      <td>-1.129259</td>\n",
       "      <td>0.0</td>\n",
       "      <td>0.0</td>\n",
       "      <td>0.0</td>\n",
       "      <td>0.0</td>\n",
       "      <td>...</td>\n",
       "      <td>0.0</td>\n",
       "      <td>0.0</td>\n",
       "      <td>0.0</td>\n",
       "      <td>0.0</td>\n",
       "      <td>0.0</td>\n",
       "      <td>0.0</td>\n",
       "      <td>0.0</td>\n",
       "      <td>1.0</td>\n",
       "      <td>0.0</td>\n",
       "      <td>0.0</td>\n",
       "    </tr>\n",
       "    <tr>\n",
       "      <th>2</th>\n",
       "      <td>-0.184434</td>\n",
       "      <td>2.617265</td>\n",
       "      <td>-1.095198</td>\n",
       "      <td>-0.097286</td>\n",
       "      <td>-0.176882</td>\n",
       "      <td>0.161891</td>\n",
       "      <td>1.0</td>\n",
       "      <td>0.0</td>\n",
       "      <td>0.0</td>\n",
       "      <td>0.0</td>\n",
       "      <td>...</td>\n",
       "      <td>0.0</td>\n",
       "      <td>0.0</td>\n",
       "      <td>0.0</td>\n",
       "      <td>0.0</td>\n",
       "      <td>0.0</td>\n",
       "      <td>0.0</td>\n",
       "      <td>1.0</td>\n",
       "      <td>0.0</td>\n",
       "      <td>0.0</td>\n",
       "      <td>0.0</td>\n",
       "    </tr>\n",
       "    <tr>\n",
       "      <th>3</th>\n",
       "      <td>-0.815298</td>\n",
       "      <td>1.429872</td>\n",
       "      <td>-0.647472</td>\n",
       "      <td>-0.933258</td>\n",
       "      <td>-0.883296</td>\n",
       "      <td>-0.770607</td>\n",
       "      <td>0.0</td>\n",
       "      <td>1.0</td>\n",
       "      <td>0.0</td>\n",
       "      <td>0.0</td>\n",
       "      <td>...</td>\n",
       "      <td>0.0</td>\n",
       "      <td>0.0</td>\n",
       "      <td>0.0</td>\n",
       "      <td>0.0</td>\n",
       "      <td>1.0</td>\n",
       "      <td>0.0</td>\n",
       "      <td>0.0</td>\n",
       "      <td>0.0</td>\n",
       "      <td>0.0</td>\n",
       "      <td>0.0</td>\n",
       "    </tr>\n",
       "    <tr>\n",
       "      <th>4</th>\n",
       "      <td>0.467458</td>\n",
       "      <td>-0.875068</td>\n",
       "      <td>0.695707</td>\n",
       "      <td>0.729794</td>\n",
       "      <td>0.677793</td>\n",
       "      <td>0.592274</td>\n",
       "      <td>0.0</td>\n",
       "      <td>0.0</td>\n",
       "      <td>1.0</td>\n",
       "      <td>0.0</td>\n",
       "      <td>...</td>\n",
       "      <td>0.0</td>\n",
       "      <td>0.0</td>\n",
       "      <td>0.0</td>\n",
       "      <td>0.0</td>\n",
       "      <td>1.0</td>\n",
       "      <td>0.0</td>\n",
       "      <td>0.0</td>\n",
       "      <td>0.0</td>\n",
       "      <td>0.0</td>\n",
       "      <td>0.0</td>\n",
       "    </tr>\n",
       "  </tbody>\n",
       "</table>\n",
       "<p>5 rows × 26 columns</p>\n",
       "</div>"
      ],
      "text/plain": [
       "         0         1         2         3         4         5    6    7    8   \\\n",
       "0  0.867006  0.452019  0.247981  0.978807  0.921985  1.022657  0.0  0.0  0.0   \n",
       "1 -1.004557  0.871099 -0.199745 -1.226738 -1.179816 -1.129259  0.0  0.0  0.0   \n",
       "2 -0.184434  2.617265 -1.095198 -0.097286 -0.176882  0.161891  1.0  0.0  0.0   \n",
       "3 -0.815298  1.429872 -0.647472 -0.933258 -0.883296 -0.770607  0.0  1.0  0.0   \n",
       "4  0.467458 -0.875068  0.695707  0.729794  0.677793  0.592274  0.0  0.0  1.0   \n",
       "\n",
       "    9   ...   16   17   18   19   20   21   22   23   24   25  \n",
       "0  1.0  ...  0.0  1.0  0.0  0.0  0.0  0.0  0.0  1.0  0.0  0.0  \n",
       "1  0.0  ...  0.0  0.0  0.0  0.0  0.0  0.0  0.0  1.0  0.0  0.0  \n",
       "2  0.0  ...  0.0  0.0  0.0  0.0  0.0  0.0  1.0  0.0  0.0  0.0  \n",
       "3  0.0  ...  0.0  0.0  0.0  0.0  1.0  0.0  0.0  0.0  0.0  0.0  \n",
       "4  0.0  ...  0.0  0.0  0.0  0.0  1.0  0.0  0.0  0.0  0.0  0.0  \n",
       "\n",
       "[5 rows x 26 columns]"
      ]
     },
     "execution_count": 22,
     "metadata": {},
     "output_type": "execute_result"
    }
   ],
   "source": [
    "pd.DataFrame(data=preprocessor.fit_transform(diamonds)).head()"
   ]
  },
  {
   "cell_type": "markdown",
   "metadata": {},
   "source": [
    "## 4. train a simple model"
   ]
  },
  {
   "cell_type": "markdown",
   "metadata": {},
   "source": [
    "first, lets train a simple model using holdout, train - test split..."
   ]
  },
  {
   "cell_type": "code",
   "execution_count": 20,
   "metadata": {},
   "outputs": [],
   "source": [
    "from sklearn.model_selection import train_test_split"
   ]
  },
  {
   "cell_type": "code",
   "execution_count": 21,
   "metadata": {},
   "outputs": [],
   "source": [
    "diamonds_train, diamonds_test = train_test_split(diamonds)"
   ]
  },
  {
   "cell_type": "code",
   "execution_count": 13,
   "metadata": {},
   "outputs": [
    {
     "name": "stdout",
     "output_type": "stream",
     "text": [
      "(30341, 10)\n",
      "(10114, 10)\n"
     ]
    }
   ],
   "source": [
    "print(diamonds_train.shape)\n",
    "print(diamonds_test.shape)"
   ]
  },
  {
   "cell_type": "markdown",
   "metadata": {},
   "source": [
    "let's choose a model from scikit-learn cheatsheet: https://scikit-learn.org/stable/tutorial/machine_learning_map/index.html"
   ]
  },
  {
   "cell_type": "code",
   "execution_count": 14,
   "metadata": {},
   "outputs": [],
   "source": [
    "from sklearn.linear_model import Lasso\n",
    "from sklearn.ensemble import RandomForestRegressor\n",
    "\n",
    "model= Pipeline(steps=[('preprocessor', preprocessor),\n",
    "                       ('regressor', RandomForestRegressor())])"
   ]
  },
  {
   "cell_type": "code",
   "execution_count": 15,
   "metadata": {},
   "outputs": [],
   "source": [
    "model.fit(diamonds_train[FEATS], diamonds_train[TARGET]);"
   ]
  },
  {
   "cell_type": "markdown",
   "metadata": {},
   "source": [
    "## 5. check model performance on test and train data"
   ]
  },
  {
   "cell_type": "code",
   "execution_count": 16,
   "metadata": {},
   "outputs": [],
   "source": [
    "from sklearn.metrics import mean_squared_error"
   ]
  },
  {
   "cell_type": "code",
   "execution_count": 17,
   "metadata": {},
   "outputs": [],
   "source": [
    "y_test = model.predict(diamonds_test[FEATS])\n",
    "y_train = model.predict(diamonds_train[FEATS])"
   ]
  },
  {
   "cell_type": "code",
   "execution_count": 18,
   "metadata": {},
   "outputs": [
    {
     "name": "stdout",
     "output_type": "stream",
     "text": [
      "test error: 566.8104292649324\n",
      "train error: 209.39746802936426\n"
     ]
    }
   ],
   "source": [
    "print(f\"test error: {mean_squared_error(y_pred=y_test, y_true=diamonds_test[TARGET], squared=False)}\")\n",
    "print(f\"train error: {mean_squared_error(y_pred=y_train, y_true=diamonds_train[TARGET], squared=False)}\")"
   ]
  },
  {
   "cell_type": "markdown",
   "metadata": {},
   "source": [
    "## 6. check model performance using cross validation"
   ]
  },
  {
   "cell_type": "code",
   "execution_count": 19,
   "metadata": {},
   "outputs": [],
   "source": [
    "from sklearn.model_selection import cross_val_score"
   ]
  },
  {
   "cell_type": "code",
   "execution_count": 20,
   "metadata": {},
   "outputs": [],
   "source": [
    "scores = cross_val_score(model, \n",
    "                         diamonds[FEATS], \n",
    "                         diamonds[TARGET], \n",
    "                         scoring='neg_root_mean_squared_error', \n",
    "                         cv=5, n_jobs=-1)"
   ]
  },
  {
   "cell_type": "code",
   "execution_count": 21,
   "metadata": {},
   "outputs": [
    {
     "data": {
      "text/plain": [
       "561.2383794445702"
      ]
     },
     "execution_count": 21,
     "metadata": {},
     "output_type": "execute_result"
    }
   ],
   "source": [
    "import numpy as np\n",
    "np.mean(-scores)"
   ]
  },
  {
   "cell_type": "markdown",
   "metadata": {},
   "source": [
    "## 7. optimize model using grid search"
   ]
  },
  {
   "cell_type": "code",
   "execution_count": 22,
   "metadata": {},
   "outputs": [],
   "source": [
    "from sklearn.model_selection import RandomizedSearchCV"
   ]
  },
  {
   "cell_type": "code",
   "execution_count": null,
   "metadata": {},
   "outputs": [
    {
     "name": "stdout",
     "output_type": "stream",
     "text": [
      "Fitting 5 folds for each of 32 candidates, totalling 160 fits\n",
      "[CV 1/5; 1/32] START preprocessor__num__imputer__strategy=median, regressor__max_depth=4, regressor__n_estimators=64\n",
      "[CV 1/5; 1/32] END preprocessor__num__imputer__strategy=median, regressor__max_depth=4, regressor__n_estimators=64;, score=-1253.725 total time=   2.8s\n",
      "[CV 3/5; 3/32] START preprocessor__num__imputer__strategy=mean, regressor__max_depth=2, regressor__n_estimators=64\n",
      "[CV 3/5; 3/32] END preprocessor__num__imputer__strategy=mean, regressor__max_depth=2, regressor__n_estimators=64;, score=-1642.757 total time=   1.8s\n",
      "[CV 1/5; 4/32] START preprocessor__num__imputer__strategy=mean, regressor__max_depth=8, regressor__n_estimators=64\n",
      "[CV 1/5; 4/32] END preprocessor__num__imputer__strategy=mean, regressor__max_depth=8, regressor__n_estimators=64;, score=-822.140 total time=   6.8s\n",
      "[CV 4/5; 4/32] START preprocessor__num__imputer__strategy=mean, regressor__max_depth=8, regressor__n_estimators=64\n",
      "[CV 4/5; 4/32] END preprocessor__num__imputer__strategy=mean, regressor__max_depth=8, regressor__n_estimators=64;, score=-858.693 total time=   7.5s\n",
      "[CV 2/5; 5/32] START preprocessor__num__imputer__strategy=mean, regressor__max_depth=8, regressor__n_estimators=512\n",
      "[CV 2/5; 5/32] END preprocessor__num__imputer__strategy=mean, regressor__max_depth=8, regressor__n_estimators=512;, score=-823.793 total time=  55.4s\n",
      "[CV 5/5; 5/32] START preprocessor__num__imputer__strategy=mean, regressor__max_depth=8, regressor__n_estimators=512\n",
      "[CV 5/5; 5/32] END preprocessor__num__imputer__strategy=mean, regressor__max_depth=8, regressor__n_estimators=512;, score=-788.407 total time=  55.6s\n",
      "[CV 5/5; 15/32] START preprocessor__num__imputer__strategy=mean, regressor__max_depth=4, regressor__n_estimators=512\n",
      "[CV 5/5; 15/32] END preprocessor__num__imputer__strategy=mean, regressor__max_depth=4, regressor__n_estimators=512;, score=-1209.305 total time=  30.9s\n",
      "[CV 1/5; 17/32] START preprocessor__num__imputer__strategy=mean, regressor__max_depth=8, regressor__n_estimators=32\n",
      "[CV 1/5; 17/32] END preprocessor__num__imputer__strategy=mean, regressor__max_depth=8, regressor__n_estimators=32;, score=-831.366 total time=   3.4s\n",
      "[CV 4/5; 17/32] START preprocessor__num__imputer__strategy=mean, regressor__max_depth=8, regressor__n_estimators=32\n",
      "[CV 4/5; 17/32] END preprocessor__num__imputer__strategy=mean, regressor__max_depth=8, regressor__n_estimators=32;, score=-849.114 total time=   3.5s\n",
      "[CV 2/5; 18/32] START preprocessor__num__imputer__strategy=median, regressor__max_depth=2, regressor__n_estimators=256\n",
      "[CV 2/5; 18/32] END preprocessor__num__imputer__strategy=median, regressor__max_depth=2, regressor__n_estimators=256;, score=-1658.719 total time=   8.8s\n",
      "[CV 5/5; 18/32] START preprocessor__num__imputer__strategy=median, regressor__max_depth=2, regressor__n_estimators=256\n",
      "[CV 5/5; 18/32] END preprocessor__num__imputer__strategy=median, regressor__max_depth=2, regressor__n_estimators=256;, score=-1577.213 total time=   9.4s\n",
      "[CV 2/5; 20/32] START preprocessor__num__imputer__strategy=median, regressor__max_depth=8, regressor__n_estimators=128\n",
      "[CV 2/5; 20/32] END preprocessor__num__imputer__strategy=median, regressor__max_depth=8, regressor__n_estimators=128;, score=-825.005 total time=  14.5s\n",
      "[CV 4/5; 21/32] START preprocessor__num__imputer__strategy=median, regressor__max_depth=4, regressor__n_estimators=128\n",
      "[CV 4/5; 21/32] END preprocessor__num__imputer__strategy=median, regressor__max_depth=4, regressor__n_estimators=128;, score=-1255.553 total time=   8.2s\n",
      "[CV 1/5; 23/32] START preprocessor__num__imputer__strategy=mean, regressor__max_depth=2, regressor__n_estimators=16\n",
      "[CV 1/5; 23/32] END preprocessor__num__imputer__strategy=mean, regressor__max_depth=2, regressor__n_estimators=16;, score=-1640.586 total time=   0.7s\n",
      "[CV 2/5; 23/32] START preprocessor__num__imputer__strategy=mean, regressor__max_depth=2, regressor__n_estimators=16\n",
      "[CV 2/5; 23/32] END preprocessor__num__imputer__strategy=mean, regressor__max_depth=2, regressor__n_estimators=16;, score=-1668.356 total time=   0.7s\n",
      "[CV 3/5; 23/32] START preprocessor__num__imputer__strategy=mean, regressor__max_depth=2, regressor__n_estimators=16\n",
      "[CV 3/5; 23/32] END preprocessor__num__imputer__strategy=mean, regressor__max_depth=2, regressor__n_estimators=16;, score=-1604.756 total time=   0.7s\n",
      "[CV 5/5; 23/32] START preprocessor__num__imputer__strategy=mean, regressor__max_depth=2, regressor__n_estimators=16\n",
      "[CV 5/5; 23/32] END preprocessor__num__imputer__strategy=mean, regressor__max_depth=2, regressor__n_estimators=16;, score=-1591.076 total time=   0.6s\n",
      "[CV 2/5; 24/32] START preprocessor__num__imputer__strategy=mean, regressor__max_depth=8, regressor__n_estimators=128\n",
      "[CV 2/5; 24/32] END preprocessor__num__imputer__strategy=mean, regressor__max_depth=8, regressor__n_estimators=128;, score=-824.637 total time=  13.5s\n",
      "[CV 4/5; 24/32] START preprocessor__num__imputer__strategy=mean, regressor__max_depth=8, regressor__n_estimators=128\n",
      "[CV 4/5; 24/32] END preprocessor__num__imputer__strategy=mean, regressor__max_depth=8, regressor__n_estimators=128;, score=-853.777 total time=  13.3s\n",
      "[CV 4/5; 27/32] START preprocessor__num__imputer__strategy=mean, regressor__max_depth=4, regressor__n_estimators=64\n",
      "[CV 4/5; 27/32] END preprocessor__num__imputer__strategy=mean, regressor__max_depth=4, regressor__n_estimators=64;, score=-1252.600 total time=   3.8s\n",
      "[CV 1/5; 28/32] START preprocessor__num__imputer__strategy=median, regressor__max_depth=8, regressor__n_estimators=64\n",
      "[CV 1/5; 28/32] END preprocessor__num__imputer__strategy=median, regressor__max_depth=8, regressor__n_estimators=64;, score=-829.017 total time=   6.8s\n",
      "[CV 4/5; 28/32] START preprocessor__num__imputer__strategy=median, regressor__max_depth=8, regressor__n_estimators=64\n",
      "[CV 4/5; 28/32] END preprocessor__num__imputer__strategy=median, regressor__max_depth=8, regressor__n_estimators=64;, score=-851.251 total time=   6.6s\n",
      "[CV 4/5; 29/32] START preprocessor__num__imputer__strategy=median, regressor__max_depth=8, regressor__n_estimators=16\n",
      "[CV 4/5; 29/32] END preprocessor__num__imputer__strategy=median, regressor__max_depth=8, regressor__n_estimators=16;, score=-861.849 total time=   1.8s\n",
      "[CV 1/5; 31/32] START preprocessor__num__imputer__strategy=mean, regressor__max_depth=8, regressor__n_estimators=16\n",
      "[CV 1/5; 31/32] END preprocessor__num__imputer__strategy=mean, regressor__max_depth=8, regressor__n_estimators=16;, score=-829.059 total time=   1.8s\n",
      "[CV 4/5; 31/32] START preprocessor__num__imputer__strategy=mean, regressor__max_depth=8, regressor__n_estimators=16\n",
      "[CV 4/5; 31/32] END preprocessor__num__imputer__strategy=mean, regressor__max_depth=8, regressor__n_estimators=16;, score=-855.935 total time=   1.8s\n",
      "[CV 2/5; 32/32] START preprocessor__num__imputer__strategy=median, regressor__max_depth=8, regressor__n_estimators=512\n",
      "[CV 2/5; 32/32] END preprocessor__num__imputer__strategy=median, regressor__max_depth=8, regressor__n_estimators=512;, score=-827.589 total time=  42.8s\n",
      "[CV 1/5; 2/32] START preprocessor__num__imputer__strategy=mean, regressor__max_depth=8, regressor__n_estimators=16\n",
      "[CV 1/5; 2/32] END preprocessor__num__imputer__strategy=mean, regressor__max_depth=8, regressor__n_estimators=16;, score=-830.332 total time=   1.7s\n",
      "[CV 4/5; 2/32] START preprocessor__num__imputer__strategy=mean, regressor__max_depth=8, regressor__n_estimators=16\n",
      "[CV 4/5; 2/32] END preprocessor__num__imputer__strategy=mean, regressor__max_depth=8, regressor__n_estimators=16;, score=-851.901 total time=   1.7s\n",
      "[CV 2/5; 3/32] START preprocessor__num__imputer__strategy=mean, regressor__max_depth=16, regressor__n_estimators=64\n",
      "[CV 2/5; 3/32] END preprocessor__num__imputer__strategy=mean, regressor__max_depth=16, regressor__n_estimators=64;, score=-555.589 total time=  12.6s\n",
      "[CV 1/5; 6/32] START preprocessor__num__imputer__strategy=median, regressor__max_depth=2, regressor__n_estimators=16\n",
      "[CV 1/5; 6/32] END preprocessor__num__imputer__strategy=median, regressor__max_depth=2, regressor__n_estimators=16;, score=-1637.310 total time=   0.7s\n",
      "[CV 4/5; 6/32] START preprocessor__num__imputer__strategy=median, regressor__max_depth=2, regressor__n_estimators=16\n",
      "[CV 2/5; 1/32] START preprocessor__num__imputer__strategy=median, regressor__max_depth=4, regressor__n_estimators=64\n",
      "[CV 2/5; 1/32] END preprocessor__num__imputer__strategy=median, regressor__max_depth=4, regressor__n_estimators=64;, score=-1251.981 total time=   2.7s\n",
      "[CV 2/5; 3/32] START preprocessor__num__imputer__strategy=mean, regressor__max_depth=2, regressor__n_estimators=64\n",
      "[CV 2/5; 3/32] END preprocessor__num__imputer__strategy=mean, regressor__max_depth=2, regressor__n_estimators=64;, score=-1639.881 total time=   1.7s\n",
      "[CV 5/5; 3/32] START preprocessor__num__imputer__strategy=mean, regressor__max_depth=2, regressor__n_estimators=64\n",
      "[CV 5/5; 3/32] END preprocessor__num__imputer__strategy=mean, regressor__max_depth=2, regressor__n_estimators=64;, score=-1579.688 total time=   2.3s\n",
      "[CV 2/5; 4/32] START preprocessor__num__imputer__strategy=mean, regressor__max_depth=8, regressor__n_estimators=64\n",
      "[CV 2/5; 4/32] END preprocessor__num__imputer__strategy=mean, regressor__max_depth=8, regressor__n_estimators=64;, score=-829.815 total time=   6.6s\n",
      "[CV 5/5; 4/32] START preprocessor__num__imputer__strategy=mean, regressor__max_depth=8, regressor__n_estimators=64\n",
      "[CV 5/5; 4/32] END preprocessor__num__imputer__strategy=mean, regressor__max_depth=8, regressor__n_estimators=64;, score=-790.467 total time=   8.3s\n",
      "[CV 3/5; 5/32] START preprocessor__num__imputer__strategy=mean, regressor__max_depth=8, regressor__n_estimators=512\n",
      "[CV 3/5; 5/32] END preprocessor__num__imputer__strategy=mean, regressor__max_depth=8, regressor__n_estimators=512;, score=-833.374 total time=  55.3s\n",
      "[CV 1/5; 6/32] START preprocessor__num__imputer__strategy=median, regressor__max_depth=4, regressor__n_estimators=256\n",
      "[CV 1/5; 6/32] END preprocessor__num__imputer__strategy=median, regressor__max_depth=4, regressor__n_estimators=256;, score=-1253.260 total time=  16.1s\n",
      "[CV 2/5; 6/32] START preprocessor__num__imputer__strategy=median, regressor__max_depth=4, regressor__n_estimators=256\n",
      "[CV 2/5; 6/32] END preprocessor__num__imputer__strategy=median, regressor__max_depth=4, regressor__n_estimators=256;, score=-1253.107 total time=  16.8s\n",
      "[CV 3/5; 8/32] START preprocessor__num__imputer__strategy=mean, regressor__max_depth=16, regressor__n_estimators=16\n",
      "[CV 3/5; 8/32] END preprocessor__num__imputer__strategy=mean, regressor__max_depth=16, regressor__n_estimators=16;, score=-577.389 total time=   3.5s\n",
      "[CV 1/5; 9/32] START preprocessor__num__imputer__strategy=median, regressor__max_depth=2, regressor__n_estimators=16\n",
      "[CV 1/5; 9/32] END preprocessor__num__imputer__strategy=median, regressor__max_depth=2, regressor__n_estimators=16;, score=-1576.856 total time=   0.7s\n",
      "[CV 2/5; 9/32] START preprocessor__num__imputer__strategy=median, regressor__max_depth=2, regressor__n_estimators=16\n",
      "[CV 2/5; 9/32] END preprocessor__num__imputer__strategy=median, regressor__max_depth=2, regressor__n_estimators=16;, score=-1658.532 total time=   0.7s\n",
      "[CV 4/5; 9/32] START preprocessor__num__imputer__strategy=median, regressor__max_depth=2, regressor__n_estimators=16\n",
      "[CV 4/5; 9/32] END preprocessor__num__imputer__strategy=median, regressor__max_depth=2, regressor__n_estimators=16;, score=-1641.535 total time=   0.7s\n",
      "[CV 2/5; 10/32] START preprocessor__num__imputer__strategy=mean, regressor__max_depth=2, regressor__n_estimators=32\n",
      "[CV 2/5; 10/32] END preprocessor__num__imputer__strategy=mean, regressor__max_depth=2, regressor__n_estimators=32;, score=-1655.486 total time=   1.3s\n",
      "[CV 1/5; 11/32] START preprocessor__num__imputer__strategy=median, regressor__max_depth=4, regressor__n_estimators=32\n",
      "[CV 1/5; 11/32] END preprocessor__num__imputer__strategy=median, regressor__max_depth=4, regressor__n_estimators=32;, score=-1260.071 total time=   2.2s\n",
      "[CV 2/5; 12/32] START preprocessor__num__imputer__strategy=mean, regressor__max_depth=16, regressor__n_estimators=32\n",
      "[CV 2/5; 12/32] END preprocessor__num__imputer__strategy=mean, regressor__max_depth=16, regressor__n_estimators=32;, score=-555.697 total time=   6.5s\n",
      "[CV 5/5; 13/32] START preprocessor__num__imputer__strategy=mean, regressor__max_depth=2, regressor__n_estimators=128\n",
      "[CV 5/5; 13/32] END preprocessor__num__imputer__strategy=mean, regressor__max_depth=2, regressor__n_estimators=128;, score=-1583.386 total time=   5.0s\n",
      "[CV 3/5; 16/32] START preprocessor__num__imputer__strategy=median, regressor__max_depth=16, regressor__n_estimators=256\n",
      "[CV 3/5; 16/32] END preprocessor__num__imputer__strategy=median, regressor__max_depth=16, regressor__n_estimators=256;, score=-557.879 total time=  51.0s\n",
      "[CV 5/5; 19/32] START preprocessor__num__imputer__strategy=mean, regressor__max_depth=4, regressor__n_estimators=128\n",
      "[CV 5/5; 19/32] END preprocessor__num__imputer__strategy=mean, regressor__max_depth=4, regressor__n_estimators=128;, score=-1205.306 total time=   8.0s\n",
      "[CV 1/5; 21/32] START preprocessor__num__imputer__strategy=median, regressor__max_depth=4, regressor__n_estimators=128\n",
      "[CV 1/5; 21/32] END preprocessor__num__imputer__strategy=median, regressor__max_depth=4, regressor__n_estimators=128;, score=-1250.543 total time=   7.7s\n",
      "[CV 2/5; 21/32] START preprocessor__num__imputer__strategy=median, regressor__max_depth=4, regressor__n_estimators=128\n",
      "[CV 2/5; 21/32] END preprocessor__num__imputer__strategy=median, regressor__max_depth=4, regressor__n_estimators=128;, score=-1254.390 total time=   7.7s\n",
      "[CV 3/5; 22/32] START preprocessor__num__imputer__strategy=mean, regressor__max_depth=16, regressor__n_estimators=128\n",
      "[CV 3/5; 22/32] END preprocessor__num__imputer__strategy=mean, regressor__max_depth=16, regressor__n_estimators=128;, score=-560.928 total time=  25.5s\n",
      "[CV 1/5; 26/32] START preprocessor__num__imputer__strategy=median, regressor__max_depth=16, regressor__n_estimators=128\n",
      "[CV 1/5; 26/32] END preprocessor__num__imputer__strategy=median, regressor__max_depth=16, regressor__n_estimators=128;, score=-546.268 total time=  25.4s\n",
      "[CV 5/5; 29/32] START preprocessor__num__imputer__strategy=median, regressor__max_depth=8, regressor__n_estimators=16\n",
      "[CV 5/5; 29/32] END preprocessor__num__imputer__strategy=median, regressor__max_depth=8, regressor__n_estimators=16;, score=-790.278 total time=   2.0s\n",
      "[CV 3/5; 31/32] START preprocessor__num__imputer__strategy=mean, regressor__max_depth=8, regressor__n_estimators=16\n",
      "[CV 3/5; 31/32] END preprocessor__num__imputer__strategy=mean, regressor__max_depth=8, regressor__n_estimators=16;, score=-853.049 total time=   1.9s\n",
      "[CV 1/5; 32/32] START preprocessor__num__imputer__strategy=median, regressor__max_depth=8, regressor__n_estimators=512\n",
      "[CV 1/5; 32/32] END preprocessor__num__imputer__strategy=median, regressor__max_depth=8, regressor__n_estimators=512;, score=-824.405 total time=  39.4s\n",
      "[CV 4/5; 1/32] START preprocessor__num__imputer__strategy=median, regressor__max_depth=4, regressor__n_estimators=64\n",
      "[CV 4/5; 1/32] END preprocessor__num__imputer__strategy=median, regressor__max_depth=4, regressor__n_estimators=64;, score=-1257.546 total time=   4.1s\n",
      "[CV 1/5; 4/32] START preprocessor__num__imputer__strategy=mean, regressor__max_depth=2, regressor__n_estimators=16\n",
      "[CV 1/5; 4/32] END preprocessor__num__imputer__strategy=mean, regressor__max_depth=2, regressor__n_estimators=16;, score=-1637.012 total time=   0.6s\n",
      "[CV 4/5; 4/32] START preprocessor__num__imputer__strategy=mean, regressor__max_depth=2, regressor__n_estimators=16\n",
      "[CV 4/5; 4/32] END preprocessor__num__imputer__strategy=mean, regressor__max_depth=2, regressor__n_estimators=16;, score=-1566.394 total time=   0.6s\n",
      "[CV 2/5; 5/32] START preprocessor__num__imputer__strategy=median, regressor__max_depth=16, regressor__n_estimators=128\n",
      "[CV 2/5; 5/32] END preprocessor__num__imputer__strategy=median, regressor__max_depth=16, regressor__n_estimators=128;, score=-551.919 total time=  26.0s\n",
      "[CV 1/5; 8/32] START preprocessor__num__imputer__strategy=median, regressor__max_depth=2, regressor__n_estimators=256\n",
      "[CV 1/5; 8/32] END preprocessor__num__imputer__strategy=median, regressor__max_depth=2, regressor__n_estimators=256;, score=-1628.341 total time=   9.5s\n",
      "[CV 2/5; 8/32] START preprocessor__num__imputer__strategy=median, regressor__max_depth=2, regressor__n_estimators=256\n",
      "[CV 4/5; 1/32] START preprocessor__num__imputer__strategy=median, regressor__max_depth=4, regressor__n_estimators=64\n",
      "[CV 4/5; 1/32] END preprocessor__num__imputer__strategy=median, regressor__max_depth=4, regressor__n_estimators=64;, score=-1261.296 total time=   2.9s\n",
      "[CV 5/5; 2/32] START preprocessor__num__imputer__strategy=mean, regressor__max_depth=16, regressor__n_estimators=512\n",
      "[CV 5/5; 2/32] END preprocessor__num__imputer__strategy=mean, regressor__max_depth=16, regressor__n_estimators=512;, score=-536.434 total time= 1.7min\n",
      "[CV 1/5; 7/32] START preprocessor__num__imputer__strategy=mean, regressor__max_depth=4, regressor__n_estimators=16\n",
      "[CV 1/5; 7/32] END preprocessor__num__imputer__strategy=mean, regressor__max_depth=4, regressor__n_estimators=16;, score=-1254.596 total time=   1.2s\n",
      "[CV 2/5; 7/32] START preprocessor__num__imputer__strategy=mean, regressor__max_depth=4, regressor__n_estimators=16\n",
      "[CV 2/5; 7/32] END preprocessor__num__imputer__strategy=mean, regressor__max_depth=4, regressor__n_estimators=16;, score=-1265.542 total time=   1.1s\n",
      "[CV 4/5; 7/32] START preprocessor__num__imputer__strategy=mean, regressor__max_depth=4, regressor__n_estimators=16\n",
      "[CV 4/5; 7/32] END preprocessor__num__imputer__strategy=mean, regressor__max_depth=4, regressor__n_estimators=16;, score=-1245.023 total time=   1.1s\n",
      "[CV 1/5; 8/32] START preprocessor__num__imputer__strategy=mean, regressor__max_depth=16, regressor__n_estimators=16\n",
      "[CV 1/5; 8/32] END preprocessor__num__imputer__strategy=mean, regressor__max_depth=16, regressor__n_estimators=16;, score=-553.411 total time=   3.3s\n",
      "[CV 4/5; 8/32] START preprocessor__num__imputer__strategy=mean, regressor__max_depth=16, regressor__n_estimators=16\n",
      "[CV 4/5; 8/32] END preprocessor__num__imputer__strategy=mean, regressor__max_depth=16, regressor__n_estimators=16;, score=-605.117 total time=   3.2s\n",
      "[CV 3/5; 9/32] START preprocessor__num__imputer__strategy=median, regressor__max_depth=2, regressor__n_estimators=16\n",
      "[CV 3/5; 9/32] END preprocessor__num__imputer__strategy=median, regressor__max_depth=2, regressor__n_estimators=16;, score=-1656.398 total time=   0.7s\n",
      "[CV 5/5; 9/32] START preprocessor__num__imputer__strategy=median, regressor__max_depth=2, regressor__n_estimators=16\n",
      "[CV 5/5; 9/32] END preprocessor__num__imputer__strategy=median, regressor__max_depth=2, regressor__n_estimators=16;, score=-1585.226 total time=   0.7s\n",
      "[CV 3/5; 10/32] START preprocessor__num__imputer__strategy=mean, regressor__max_depth=2, regressor__n_estimators=32\n",
      "[CV 3/5; 10/32] END preprocessor__num__imputer__strategy=mean, regressor__max_depth=2, regressor__n_estimators=32;, score=-1641.051 total time=   1.2s\n",
      "[CV 2/5; 11/32] START preprocessor__num__imputer__strategy=median, regressor__max_depth=4, regressor__n_estimators=32\n",
      "[CV 2/5; 11/32] END preprocessor__num__imputer__strategy=median, regressor__max_depth=4, regressor__n_estimators=32;, score=-1246.170 total time=   2.2s\n",
      "[CV 3/5; 12/32] START preprocessor__num__imputer__strategy=mean, regressor__max_depth=16, regressor__n_estimators=32\n",
      "[CV 3/5; 12/32] END preprocessor__num__imputer__strategy=mean, regressor__max_depth=16, regressor__n_estimators=32;, score=-568.696 total time=   6.5s\n",
      "[CV 2/5; 14/32] START preprocessor__num__imputer__strategy=median, regressor__max_depth=4, regressor__n_estimators=16\n",
      "[CV 2/5; 14/32] END preprocessor__num__imputer__strategy=median, regressor__max_depth=4, regressor__n_estimators=16;, score=-1254.783 total time=   1.2s\n",
      "[CV 5/5; 14/32] START preprocessor__num__imputer__strategy=median, regressor__max_depth=4, regressor__n_estimators=16\n",
      "[CV 5/5; 14/32] END preprocessor__num__imputer__strategy=median, regressor__max_depth=4, regressor__n_estimators=16;, score=-1217.610 total time=   1.2s\n",
      "[CV 3/5; 15/32] START preprocessor__num__imputer__strategy=mean, regressor__max_depth=4, regressor__n_estimators=512\n",
      "[CV 3/5; 15/32] END preprocessor__num__imputer__strategy=mean, regressor__max_depth=4, regressor__n_estimators=512;, score=-1276.022 total time=  32.6s\n",
      "[CV 3/5; 17/32] START preprocessor__num__imputer__strategy=mean, regressor__max_depth=8, regressor__n_estimators=32\n",
      "[CV 3/5; 17/32] END preprocessor__num__imputer__strategy=mean, regressor__max_depth=8, regressor__n_estimators=32;, score=-838.673 total time=   3.4s\n",
      "[CV 1/5; 18/32] START preprocessor__num__imputer__strategy=median, regressor__max_depth=2, regressor__n_estimators=256\n",
      "[CV 1/5; 18/32] END preprocessor__num__imputer__strategy=median, regressor__max_depth=2, regressor__n_estimators=256;, score=-1630.314 total time=   8.4s\n",
      "[CV 4/5; 18/32] START preprocessor__num__imputer__strategy=median, regressor__max_depth=2, regressor__n_estimators=256\n",
      "[CV 4/5; 18/32] END preprocessor__num__imputer__strategy=median, regressor__max_depth=2, regressor__n_estimators=256;, score=-1603.100 total time=   8.4s\n",
      "[CV 3/5; 19/32] START preprocessor__num__imputer__strategy=mean, regressor__max_depth=4, regressor__n_estimators=128\n",
      "[CV 3/5; 19/32] END preprocessor__num__imputer__strategy=mean, regressor__max_depth=4, regressor__n_estimators=128;, score=-1273.378 total time=   8.1s\n",
      "[CV 4/5; 20/32] START preprocessor__num__imputer__strategy=median, regressor__max_depth=8, regressor__n_estimators=128\n",
      "[CV 4/5; 20/32] END preprocessor__num__imputer__strategy=median, regressor__max_depth=8, regressor__n_estimators=128;, score=-857.483 total time=  13.9s\n",
      "[CV 2/5; 22/32] START preprocessor__num__imputer__strategy=mean, regressor__max_depth=16, regressor__n_estimators=128\n",
      "[CV 2/5; 22/32] END preprocessor__num__imputer__strategy=mean, regressor__max_depth=16, regressor__n_estimators=128;, score=-550.751 total time=  25.1s\n",
      "[CV 3/5; 25/32] START preprocessor__num__imputer__strategy=median, regressor__max_depth=2, regressor__n_estimators=64\n",
      "[CV 3/5; 25/32] END preprocessor__num__imputer__strategy=median, regressor__max_depth=2, regressor__n_estimators=64;, score=-1614.785 total time=   2.6s\n",
      "[CV 2/5; 26/32] START preprocessor__num__imputer__strategy=median, regressor__max_depth=16, regressor__n_estimators=128\n",
      "[CV 2/5; 26/32] END preprocessor__num__imputer__strategy=median, regressor__max_depth=16, regressor__n_estimators=128;, score=-550.802 total time=  25.9s\n",
      "[CV 3/5; 30/32] START preprocessor__num__imputer__strategy=mean, regressor__max_depth=2, regressor__n_estimators=256\n",
      "[CV 3/5; 30/32] END preprocessor__num__imputer__strategy=mean, regressor__max_depth=2, regressor__n_estimators=256;, score=-1625.811 total time=   9.3s\n",
      "[CV 4/5; 32/32] START preprocessor__num__imputer__strategy=median, regressor__max_depth=8, regressor__n_estimators=512\n",
      "[CV 4/5; 32/32] END preprocessor__num__imputer__strategy=median, regressor__max_depth=8, regressor__n_estimators=512;, score=-855.961 total time=  35.8s\n",
      "[CV 5/5; 1/32] START preprocessor__num__imputer__strategy=median, regressor__max_depth=4, regressor__n_estimators=64\n",
      "[CV 5/5; 1/32] END preprocessor__num__imputer__strategy=median, regressor__max_depth=4, regressor__n_estimators=64;, score=-1217.545 total time=   4.0s\n",
      "[CV 4/5; 3/32] START preprocessor__num__imputer__strategy=mean, regressor__max_depth=16, regressor__n_estimators=64\n",
      "[CV 4/5; 3/32] END preprocessor__num__imputer__strategy=mean, regressor__max_depth=16, regressor__n_estimators=64;, score=-597.066 total time=  12.5s\n",
      "[CV 2/5; 6/32] START preprocessor__num__imputer__strategy=median, regressor__max_depth=2, regressor__n_estimators=16\n",
      "[CV 2/5; 6/32] END preprocessor__num__imputer__strategy=median, regressor__max_depth=2, regressor__n_estimators=16;, score=-1659.190 total time=   0.6s\n",
      "[CV 5/5; 6/32] START preprocessor__num__imputer__strategy=median, regressor__max_depth=2, regressor__n_estimators=16\n",
      "[CV 5/5; 6/32] END preprocessor__num__imputer__strategy=median, regressor__max_depth=2, regressor__n_estimators=16;, score=-1593.537 total time=   0.7s\n",
      "[CV 3/5; 7/32] START preprocessor__num__imputer__strategy=mean, regressor__max_depth=4, regressor__n_estimators=512\n",
      "[CV 3/5; 7/32] END preprocessor__num__imputer__strategy=mean, regressor__max_depth=4, regressor__n_estimators=512;, score=-1275.848 total time=  32.9s\n",
      "[CV 3/5; 9/32] START preprocessor__num__imputer__strategy=mean, regressor__max_depth=2, regressor__n_estimators=512\n",
      "[CV 1/5; 2/32] START preprocessor__num__imputer__strategy=mean, regressor__max_depth=16, regressor__n_estimators=512\n",
      "[CV 1/5; 2/32] END preprocessor__num__imputer__strategy=mean, regressor__max_depth=16, regressor__n_estimators=512;, score=-545.253 total time= 1.7min\n",
      "[CV 4/5; 6/32] START preprocessor__num__imputer__strategy=median, regressor__max_depth=4, regressor__n_estimators=256\n",
      "[CV 4/5; 6/32] END preprocessor__num__imputer__strategy=median, regressor__max_depth=4, regressor__n_estimators=256;, score=-1258.383 total time=  16.3s\n",
      "[CV 3/5; 11/32] START preprocessor__num__imputer__strategy=median, regressor__max_depth=4, regressor__n_estimators=32\n",
      "[CV 3/5; 11/32] END preprocessor__num__imputer__strategy=median, regressor__max_depth=4, regressor__n_estimators=32;, score=-1272.454 total time=   2.2s\n",
      "[CV 4/5; 12/32] START preprocessor__num__imputer__strategy=mean, regressor__max_depth=16, regressor__n_estimators=32\n",
      "[CV 4/5; 12/32] END preprocessor__num__imputer__strategy=mean, regressor__max_depth=16, regressor__n_estimators=32;, score=-601.710 total time=   6.4s\n",
      "[CV 1/5; 14/32] START preprocessor__num__imputer__strategy=median, regressor__max_depth=4, regressor__n_estimators=16\n",
      "[CV 1/5; 14/32] END preprocessor__num__imputer__strategy=median, regressor__max_depth=4, regressor__n_estimators=16;, score=-1254.311 total time=   1.2s\n",
      "[CV 4/5; 14/32] START preprocessor__num__imputer__strategy=median, regressor__max_depth=4, regressor__n_estimators=16\n",
      "[CV 4/5; 14/32] END preprocessor__num__imputer__strategy=median, regressor__max_depth=4, regressor__n_estimators=16;, score=-1264.449 total time=   1.2s\n",
      "[CV 2/5; 15/32] START preprocessor__num__imputer__strategy=mean, regressor__max_depth=4, regressor__n_estimators=512\n",
      "[CV 2/5; 15/32] END preprocessor__num__imputer__strategy=mean, regressor__max_depth=4, regressor__n_estimators=512;, score=-1251.962 total time=  32.2s\n",
      "[CV 5/5; 16/32] START preprocessor__num__imputer__strategy=median, regressor__max_depth=16, regressor__n_estimators=256\n",
      "[CV 5/5; 16/32] END preprocessor__num__imputer__strategy=median, regressor__max_depth=16, regressor__n_estimators=256;, score=-536.435 total time=  51.6s\n",
      "[CV 3/5; 24/32] START preprocessor__num__imputer__strategy=mean, regressor__max_depth=8, regressor__n_estimators=128\n",
      "[CV 3/5; 24/32] END preprocessor__num__imputer__strategy=mean, regressor__max_depth=8, regressor__n_estimators=128;, score=-837.861 total time=  12.9s\n",
      "[CV 5/5; 24/32] START preprocessor__num__imputer__strategy=mean, regressor__max_depth=8, regressor__n_estimators=128\n",
      "[CV 5/5; 24/32] END preprocessor__num__imputer__strategy=mean, regressor__max_depth=8, regressor__n_estimators=128;, score=-786.272 total time=  12.9s\n",
      "[CV 2/5; 27/32] START preprocessor__num__imputer__strategy=mean, regressor__max_depth=4, regressor__n_estimators=64\n",
      "[CV 2/5; 27/32] END preprocessor__num__imputer__strategy=mean, regressor__max_depth=4, regressor__n_estimators=64;, score=-1249.555 total time=   3.7s\n",
      "[CV 5/5; 27/32] START preprocessor__num__imputer__strategy=mean, regressor__max_depth=4, regressor__n_estimators=64\n",
      "[CV 5/5; 27/32] END preprocessor__num__imputer__strategy=mean, regressor__max_depth=4, regressor__n_estimators=64;, score=-1202.804 total time=   3.6s\n",
      "[CV 3/5; 28/32] START preprocessor__num__imputer__strategy=median, regressor__max_depth=8, regressor__n_estimators=64\n",
      "[CV 3/5; 28/32] END preprocessor__num__imputer__strategy=median, regressor__max_depth=8, regressor__n_estimators=64;, score=-840.955 total time=   6.4s\n",
      "[CV 1/5; 29/32] START preprocessor__num__imputer__strategy=median, regressor__max_depth=8, regressor__n_estimators=16\n",
      "[CV 1/5; 29/32] END preprocessor__num__imputer__strategy=median, regressor__max_depth=8, regressor__n_estimators=16;, score=-830.418 total time=   1.7s\n",
      "[CV 2/5; 29/32] START preprocessor__num__imputer__strategy=median, regressor__max_depth=8, regressor__n_estimators=16\n",
      "[CV 2/5; 29/32] END preprocessor__num__imputer__strategy=median, regressor__max_depth=8, regressor__n_estimators=16;, score=-828.475 total time=   1.7s\n",
      "[CV 3/5; 29/32] START preprocessor__num__imputer__strategy=median, regressor__max_depth=8, regressor__n_estimators=16\n",
      "[CV 3/5; 29/32] END preprocessor__num__imputer__strategy=median, regressor__max_depth=8, regressor__n_estimators=16;, score=-842.977 total time=   1.7s\n",
      "[CV 2/5; 30/32] START preprocessor__num__imputer__strategy=mean, regressor__max_depth=2, regressor__n_estimators=256\n",
      "[CV 2/5; 30/32] END preprocessor__num__imputer__strategy=mean, regressor__max_depth=2, regressor__n_estimators=256;, score=-1657.860 total time=   9.8s\n",
      "[CV 1/5; 1/32] START preprocessor__num__imputer__strategy=median, regressor__max_depth=4, regressor__n_estimators=64\n",
      "[CV 1/5; 1/32] END preprocessor__num__imputer__strategy=median, regressor__max_depth=4, regressor__n_estimators=64;, score=-1255.918 total time=   4.0s\n",
      "[CV 5/5; 3/32] START preprocessor__num__imputer__strategy=mean, regressor__max_depth=16, regressor__n_estimators=64\n",
      "[CV 5/5; 3/32] END preprocessor__num__imputer__strategy=mean, regressor__max_depth=16, regressor__n_estimators=64;, score=-539.784 total time=  12.7s\n",
      "[CV 3/5; 6/32] START preprocessor__num__imputer__strategy=median, regressor__max_depth=2, regressor__n_estimators=16\n",
      "[CV 3/5; 6/32] END preprocessor__num__imputer__strategy=median, regressor__max_depth=2, regressor__n_estimators=16;, score=-1630.338 total time=   0.6s\n",
      "[CV 1/5; 7/32] START preprocessor__num__imputer__strategy=mean, regressor__max_depth=4, regressor__n_estimators=512\n",
      "[CV 1/5; 7/32] END preprocessor__num__imputer__strategy=mean, regressor__max_depth=4, regressor__n_estimators=512;, score=-1250.419 total time=  32.7s\n",
      "[CV 5/5; 8/32] START preprocessor__num__imputer__strategy=median, regressor__max_depth=2, regressor__n_estimators=256\n",
      "[CV 5/5; 8/32] END preprocessor__num__imputer__strategy=median, regressor__max_depth=2, regressor__n_estimators=256;, score=-1571.885 total time=  10.4s\n",
      "[CV 1/5; 10/32] START preprocessor__num__imputer__strategy=median, regressor__max_depth=4, regressor__n_estimators=16\n",
      "[CV 1/5; 10/32] END preprocessor__num__imputer__strategy=median, regressor__max_depth=4, regressor__n_estimators=16;, score=-1247.971 total time=   1.3s\n",
      "[CV 2/5; 10/32] START preprocessor__num__imputer__strategy=median, regressor__max_depth=4, regressor__n_estimators=16\n",
      "[CV 2/5; 10/32] END preprocessor__num__imputer__strategy=median, regressor__max_depth=4, regressor__n_estimators=16;, score=-1247.942 total time=   1.3s\n",
      "[CV 3/5; 10/32] START preprocessor__num__imputer__strategy=median, regressor__max_depth=4, regressor__n_estimators=16\n",
      "[CV 3/5; 10/32] END preprocessor__num__imputer__strategy=median, regressor__max_depth=4, regressor__n_estimators=16;, score=-1278.211 total time=   1.3s\n",
      "[CV 5/5; 10/32] START preprocessor__num__imputer__strategy=median, regressor__max_depth=4, regressor__n_estimators=16\n",
      "[CV 5/5; 10/32] END preprocessor__num__imputer__strategy=median, regressor__max_depth=4, regressor__n_estimators=16;, score=-1208.037 total time=   1.2s\n",
      "[CV 3/5; 11/32] START preprocessor__num__imputer__strategy=mean, regressor__max_depth=4, regressor__n_estimators=32\n",
      "[CV 3/5; 11/32] END preprocessor__num__imputer__strategy=mean, regressor__max_depth=4, regressor__n_estimators=32;, score=-1271.223 total time=   2.4s\n",
      "[CV 1/5; 12/32] START preprocessor__num__imputer__strategy=median, regressor__max_depth=2, regressor__n_estimators=128\n",
      "[CV 1/5; 12/32] END preprocessor__num__imputer__strategy=median, regressor__max_depth=2, regressor__n_estimators=128;, score=-1630.168 total time=   5.6s\n",
      "[CV 4/5; 13/32] START preprocessor__num__imputer__strategy=median, regressor__max_depth=16, regressor__n_estimators=16\n",
      "[CV 4/5; 13/32] END preprocessor__num__imputer__strategy=median, regressor__max_depth=16, regressor__n_estimators=16;, score=-610.115 total time=   3.3s\n",
      "[CV 2/5; 16/32] START preprocessor__num__imputer__strategy=mean, regressor__max_depth=4, regressor__n_estimators=256\n",
      "[CV 2/5; 16/32] END preprocessor__num__imputer__strategy=mean, regressor__max_depth=4, regressor__n_estimators=256;, score=-1252.217 total time=  15.7s\n",
      "[CV 5/5; 1/32] START preprocessor__num__imputer__strategy=median, regressor__max_depth=4, regressor__n_estimators=64\n",
      "[CV 5/5; 1/32] END preprocessor__num__imputer__strategy=median, regressor__max_depth=4, regressor__n_estimators=64;, score=-1209.380 total time=   2.6s\n",
      "[CV 4/5; 2/32] START preprocessor__num__imputer__strategy=mean, regressor__max_depth=16, regressor__n_estimators=512\n",
      "[CV 4/5; 2/32] END preprocessor__num__imputer__strategy=mean, regressor__max_depth=16, regressor__n_estimators=512;, score=-596.432 total time= 1.7min\n",
      "[CV 3/5; 7/32] START preprocessor__num__imputer__strategy=mean, regressor__max_depth=4, regressor__n_estimators=16\n",
      "[CV 3/5; 7/32] END preprocessor__num__imputer__strategy=mean, regressor__max_depth=4, regressor__n_estimators=16;, score=-1272.937 total time=   1.1s\n",
      "[CV 5/5; 7/32] START preprocessor__num__imputer__strategy=mean, regressor__max_depth=4, regressor__n_estimators=16\n",
      "[CV 5/5; 7/32] END preprocessor__num__imputer__strategy=mean, regressor__max_depth=4, regressor__n_estimators=16;, score=-1196.318 total time=   1.1s\n",
      "[CV 2/5; 8/32] START preprocessor__num__imputer__strategy=mean, regressor__max_depth=16, regressor__n_estimators=16\n",
      "[CV 2/5; 8/32] END preprocessor__num__imputer__strategy=mean, regressor__max_depth=16, regressor__n_estimators=16;, score=-569.440 total time=   3.2s\n",
      "[CV 5/5; 8/32] START preprocessor__num__imputer__strategy=mean, regressor__max_depth=16, regressor__n_estimators=16\n",
      "[CV 5/5; 8/32] END preprocessor__num__imputer__strategy=mean, regressor__max_depth=16, regressor__n_estimators=16;, score=-549.813 total time=   3.2s\n",
      "[CV 1/5; 10/32] START preprocessor__num__imputer__strategy=mean, regressor__max_depth=2, regressor__n_estimators=32\n",
      "[CV 1/5; 10/32] END preprocessor__num__imputer__strategy=mean, regressor__max_depth=2, regressor__n_estimators=32;, score=-1619.655 total time=   1.3s\n",
      "[CV 4/5; 10/32] START preprocessor__num__imputer__strategy=mean, regressor__max_depth=2, regressor__n_estimators=32\n",
      "[CV 4/5; 10/32] END preprocessor__num__imputer__strategy=mean, regressor__max_depth=2, regressor__n_estimators=32;, score=-1603.223 total time=   1.3s\n",
      "[CV 4/5; 11/32] START preprocessor__num__imputer__strategy=median, regressor__max_depth=4, regressor__n_estimators=32\n",
      "[CV 4/5; 11/32] END preprocessor__num__imputer__strategy=median, regressor__max_depth=4, regressor__n_estimators=32;, score=-1256.785 total time=   2.0s\n",
      "[CV 5/5; 12/32] START preprocessor__num__imputer__strategy=mean, regressor__max_depth=16, regressor__n_estimators=32\n",
      "[CV 5/5; 12/32] END preprocessor__num__imputer__strategy=mean, regressor__max_depth=16, regressor__n_estimators=32;, score=-544.073 total time=   6.3s\n",
      "[CV 3/5; 14/32] START preprocessor__num__imputer__strategy=median, regressor__max_depth=4, regressor__n_estimators=16\n",
      "[CV 3/5; 14/32] END preprocessor__num__imputer__strategy=median, regressor__max_depth=4, regressor__n_estimators=16;, score=-1266.600 total time=   1.1s\n",
      "[CV 1/5; 15/32] START preprocessor__num__imputer__strategy=mean, regressor__max_depth=4, regressor__n_estimators=512\n",
      "[CV 1/5; 15/32] END preprocessor__num__imputer__strategy=mean, regressor__max_depth=4, regressor__n_estimators=512;, score=-1251.822 total time=  31.0s\n",
      "[CV 4/5; 16/32] START preprocessor__num__imputer__strategy=median, regressor__max_depth=16, regressor__n_estimators=256\n",
      "[CV 4/5; 16/32] END preprocessor__num__imputer__strategy=median, regressor__max_depth=16, regressor__n_estimators=256;, score=-596.253 total time=  49.7s\n",
      "[CV 5/5; 22/32] START preprocessor__num__imputer__strategy=mean, regressor__max_depth=16, regressor__n_estimators=128\n",
      "[CV 5/5; 22/32] END preprocessor__num__imputer__strategy=mean, regressor__max_depth=16, regressor__n_estimators=128;, score=-535.661 total time=  26.0s\n",
      "[CV 1/5; 27/32] START preprocessor__num__imputer__strategy=mean, regressor__max_depth=4, regressor__n_estimators=64\n",
      "[CV 1/5; 27/32] END preprocessor__num__imputer__strategy=mean, regressor__max_depth=4, regressor__n_estimators=64;, score=-1254.151 total time=   3.9s\n",
      "[CV 3/5; 27/32] START preprocessor__num__imputer__strategy=mean, regressor__max_depth=4, regressor__n_estimators=64\n",
      "[CV 3/5; 27/32] END preprocessor__num__imputer__strategy=mean, regressor__max_depth=4, regressor__n_estimators=64;, score=-1275.696 total time=   4.2s\n",
      "[CV 2/5; 28/32] START preprocessor__num__imputer__strategy=median, regressor__max_depth=8, regressor__n_estimators=64\n",
      "[CV 2/5; 28/32] END preprocessor__num__imputer__strategy=median, regressor__max_depth=8, regressor__n_estimators=64;, score=-825.146 total time=   7.3s\n",
      "[CV 5/5; 28/32] START preprocessor__num__imputer__strategy=median, regressor__max_depth=8, regressor__n_estimators=64\n",
      "[CV 5/5; 28/32] END preprocessor__num__imputer__strategy=median, regressor__max_depth=8, regressor__n_estimators=64;, score=-788.266 total time=   7.1s\n",
      "[CV 1/5; 30/32] START preprocessor__num__imputer__strategy=mean, regressor__max_depth=2, regressor__n_estimators=256\n",
      "[CV 1/5; 30/32] END preprocessor__num__imputer__strategy=mean, regressor__max_depth=2, regressor__n_estimators=256;, score=-1631.825 total time=  10.0s\n",
      "[CV 5/5; 32/32] START preprocessor__num__imputer__strategy=median, regressor__max_depth=8, regressor__n_estimators=512\n",
      "[CV 5/5; 32/32] END preprocessor__num__imputer__strategy=median, regressor__max_depth=8, regressor__n_estimators=512;, score=-788.505 total time=  38.8s\n",
      "[CV 2/5; 2/32] START preprocessor__num__imputer__strategy=mean, regressor__max_depth=8, regressor__n_estimators=16\n",
      "[CV 2/5; 2/32] END preprocessor__num__imputer__strategy=mean, regressor__max_depth=8, regressor__n_estimators=16;, score=-819.810 total time=   1.8s\n",
      "[CV 5/5; 2/32] START preprocessor__num__imputer__strategy=mean, regressor__max_depth=8, regressor__n_estimators=16\n",
      "[CV 5/5; 2/32] END preprocessor__num__imputer__strategy=mean, regressor__max_depth=8, regressor__n_estimators=16;, score=-799.310 total time=   1.7s\n",
      "[CV 3/5; 3/32] START preprocessor__num__imputer__strategy=mean, regressor__max_depth=16, regressor__n_estimators=64\n",
      "[CV 3/5; 3/32] END preprocessor__num__imputer__strategy=mean, regressor__max_depth=16, regressor__n_estimators=64;, score=-560.801 total time=  12.5s\n",
      "[CV 5/5; 5/32] START preprocessor__num__imputer__strategy=median, regressor__max_depth=16, regressor__n_estimators=128\n",
      "[CV 5/5; 5/32] END preprocessor__num__imputer__strategy=median, regressor__max_depth=16, regressor__n_estimators=128;, score=-538.344 total time=  26.0s\n",
      "[CV 3/5; 8/32] START preprocessor__num__imputer__strategy=median, regressor__max_depth=2, regressor__n_estimators=256\n",
      "[CV 3/5; 8/32] END preprocessor__num__imputer__strategy=median, regressor__max_depth=2, regressor__n_estimators=256;, score=-1629.459 total time=   9.8s\n",
      "[CV 4/5; 9/32] START preprocessor__num__imputer__strategy=mean, regressor__max_depth=2, regressor__n_estimators=512\n",
      "[CV 4/5; 9/32] END preprocessor__num__imputer__strategy=mean, regressor__max_depth=2, regressor__n_estimators=512;, score=-1611.129 total time=  19.9s\n",
      "[CV 2/5; 13/32] START preprocessor__num__imputer__strategy=median, regressor__max_depth=16, regressor__n_estimators=16\n",
      "[CV 2/5; 13/32] END preprocessor__num__imputer__strategy=median, regressor__max_depth=16, regressor__n_estimators=16;, score=-566.735 total time=   3.3s\n",
      "[CV 5/5; 14/32] START preprocessor__num__imputer__strategy=mean, regressor__max_depth=4, regressor__n_estimators=16\n",
      "[CV 5/5; 14/32] END preprocessor__num__imputer__strategy=mean, regressor__max_depth=4, regressor__n_estimators=16;, score=-1220.320 total time=   1.1s\n",
      "[CV 5/5; 15/32] START preprocessor__num__imputer__strategy=mean, regressor__max_depth=16, regressor__n_estimators=128\n",
      "[CV 5/5; 15/32] END preprocessor__num__imputer__strategy=mean, regressor__max_depth=16, regressor__n_estimators=128;, score=-535.830 total time=  25.3s\n",
      "[CV 3/5; 18/32] START preprocessor__num__imputer__strategy=mean, regressor__max_depth=4, regressor__n_estimators=64\n",
      "[CV 3/5; 18/32] END preprocessor__num__imputer__strategy=mean, regressor__max_depth=4, regressor__n_estimators=64;, score=-1278.506 total time=   4.3s\n",
      "[CV 4/5; 19/32] START preprocessor__num__imputer__strategy=mean, regressor__max_depth=4, regressor__n_estimators=128\n",
      "[CV 3/5; 1/32] START preprocessor__num__imputer__strategy=median, regressor__max_depth=4, regressor__n_estimators=64\n",
      "[CV 3/5; 1/32] END preprocessor__num__imputer__strategy=median, regressor__max_depth=4, regressor__n_estimators=64;, score=-1275.111 total time=   2.7s\n",
      "[CV 1/5; 3/32] START preprocessor__num__imputer__strategy=mean, regressor__max_depth=2, regressor__n_estimators=64\n",
      "[CV 1/5; 3/32] END preprocessor__num__imputer__strategy=mean, regressor__max_depth=2, regressor__n_estimators=64;, score=-1632.546 total time=   1.7s\n",
      "[CV 4/5; 3/32] START preprocessor__num__imputer__strategy=mean, regressor__max_depth=2, regressor__n_estimators=64\n",
      "[CV 4/5; 3/32] END preprocessor__num__imputer__strategy=mean, regressor__max_depth=2, regressor__n_estimators=64;, score=-1618.362 total time=   2.4s\n",
      "[CV 3/5; 4/32] START preprocessor__num__imputer__strategy=mean, regressor__max_depth=8, regressor__n_estimators=64\n",
      "[CV 3/5; 4/32] END preprocessor__num__imputer__strategy=mean, regressor__max_depth=8, regressor__n_estimators=64;, score=-834.633 total time=   6.8s\n",
      "[CV 1/5; 5/32] START preprocessor__num__imputer__strategy=mean, regressor__max_depth=8, regressor__n_estimators=512\n",
      "[CV 1/5; 5/32] END preprocessor__num__imputer__strategy=mean, regressor__max_depth=8, regressor__n_estimators=512;, score=-825.447 total time=  56.5s\n",
      "[CV 4/5; 5/32] START preprocessor__num__imputer__strategy=mean, regressor__max_depth=8, regressor__n_estimators=512\n",
      "[CV 4/5; 5/32] END preprocessor__num__imputer__strategy=mean, regressor__max_depth=8, regressor__n_estimators=512;, score=-855.299 total time=  55.3s\n",
      "[CV 4/5; 13/32] START preprocessor__num__imputer__strategy=mean, regressor__max_depth=2, regressor__n_estimators=128\n",
      "[CV 4/5; 13/32] END preprocessor__num__imputer__strategy=mean, regressor__max_depth=2, regressor__n_estimators=128;, score=-1608.029 total time=   4.7s\n",
      "[CV 2/5; 16/32] START preprocessor__num__imputer__strategy=median, regressor__max_depth=16, regressor__n_estimators=256\n",
      "[CV 2/5; 16/32] END preprocessor__num__imputer__strategy=median, regressor__max_depth=16, regressor__n_estimators=256;, score=-552.672 total time=  51.3s\n",
      "[CV 2/5; 19/32] START preprocessor__num__imputer__strategy=mean, regressor__max_depth=4, regressor__n_estimators=128\n",
      "[CV 2/5; 19/32] END preprocessor__num__imputer__strategy=mean, regressor__max_depth=4, regressor__n_estimators=128;, score=-1256.006 total time=   7.7s\n",
      "[CV 3/5; 20/32] START preprocessor__num__imputer__strategy=median, regressor__max_depth=8, regressor__n_estimators=128\n",
      "[CV 3/5; 20/32] END preprocessor__num__imputer__strategy=median, regressor__max_depth=8, regressor__n_estimators=128;, score=-834.582 total time=  13.5s\n",
      "[CV 5/5; 21/32] START preprocessor__num__imputer__strategy=median, regressor__max_depth=4, regressor__n_estimators=128\n",
      "[CV 5/5; 21/32] END preprocessor__num__imputer__strategy=median, regressor__max_depth=4, regressor__n_estimators=128;, score=-1203.276 total time=   8.1s\n",
      "[CV 4/5; 23/32] START preprocessor__num__imputer__strategy=mean, regressor__max_depth=2, regressor__n_estimators=16\n",
      "[CV 4/5; 23/32] END preprocessor__num__imputer__strategy=mean, regressor__max_depth=2, regressor__n_estimators=16;, score=-1630.354 total time=   0.7s\n",
      "[CV 1/5; 24/32] START preprocessor__num__imputer__strategy=mean, regressor__max_depth=8, regressor__n_estimators=128\n",
      "[CV 1/5; 24/32] END preprocessor__num__imputer__strategy=mean, regressor__max_depth=8, regressor__n_estimators=128;, score=-826.402 total time=  13.8s\n",
      "[CV 1/5; 25/32] START preprocessor__num__imputer__strategy=median, regressor__max_depth=2, regressor__n_estimators=64\n",
      "[CV 1/5; 25/32] END preprocessor__num__imputer__strategy=median, regressor__max_depth=2, regressor__n_estimators=64;, score=-1634.278 total time=   2.3s\n",
      "[CV 2/5; 25/32] START preprocessor__num__imputer__strategy=median, regressor__max_depth=2, regressor__n_estimators=64\n",
      "[CV 2/5; 25/32] END preprocessor__num__imputer__strategy=median, regressor__max_depth=2, regressor__n_estimators=64;, score=-1662.109 total time=   2.3s\n",
      "[CV 5/5; 25/32] START preprocessor__num__imputer__strategy=median, regressor__max_depth=2, regressor__n_estimators=64\n",
      "[CV 5/5; 25/32] END preprocessor__num__imputer__strategy=median, regressor__max_depth=2, regressor__n_estimators=64;, score=-1582.331 total time=   2.3s\n",
      "[CV 4/5; 26/32] START preprocessor__num__imputer__strategy=median, regressor__max_depth=16, regressor__n_estimators=128\n",
      "[CV 4/5; 26/32] END preprocessor__num__imputer__strategy=median, regressor__max_depth=16, regressor__n_estimators=128;, score=-598.195 total time=  25.0s\n",
      "[CV 4/5; 30/32] START preprocessor__num__imputer__strategy=mean, regressor__max_depth=2, regressor__n_estimators=256\n",
      "[CV 4/5; 30/32] END preprocessor__num__imputer__strategy=mean, regressor__max_depth=2, regressor__n_estimators=256;, score=-1605.040 total time=   9.9s\n",
      "[CV 3/5; 1/32] START preprocessor__num__imputer__strategy=median, regressor__max_depth=4, regressor__n_estimators=64\n",
      "[CV 3/5; 1/32] END preprocessor__num__imputer__strategy=median, regressor__max_depth=4, regressor__n_estimators=64;, score=-1279.460 total time=   4.2s\n",
      "[CV 2/5; 4/32] START preprocessor__num__imputer__strategy=mean, regressor__max_depth=2, regressor__n_estimators=16\n",
      "[CV 2/5; 4/32] END preprocessor__num__imputer__strategy=mean, regressor__max_depth=2, regressor__n_estimators=16;, score=-1626.762 total time=   0.7s\n",
      "[CV 5/5; 4/32] START preprocessor__num__imputer__strategy=mean, regressor__max_depth=2, regressor__n_estimators=16\n",
      "[CV 5/5; 4/32] END preprocessor__num__imputer__strategy=mean, regressor__max_depth=2, regressor__n_estimators=16;, score=-1593.320 total time=   0.7s\n",
      "[CV 3/5; 5/32] START preprocessor__num__imputer__strategy=median, regressor__max_depth=16, regressor__n_estimators=128\n",
      "[CV 3/5; 5/32] END preprocessor__num__imputer__strategy=median, regressor__max_depth=16, regressor__n_estimators=128;, score=-558.111 total time=  25.4s\n",
      "[CV 5/5; 7/32] START preprocessor__num__imputer__strategy=mean, regressor__max_depth=4, regressor__n_estimators=512\n",
      "[CV 5/5; 7/32] END preprocessor__num__imputer__strategy=mean, regressor__max_depth=4, regressor__n_estimators=512;, score=-1204.773 total time=  34.0s\n",
      "[CV 1/5; 11/32] START preprocessor__num__imputer__strategy=mean, regressor__max_depth=4, regressor__n_estimators=32\n",
      "[CV 1/5; 11/32] END preprocessor__num__imputer__strategy=mean, regressor__max_depth=4, regressor__n_estimators=32;, score=-1265.291 total time=   2.3s\n",
      "[CV 4/5; 11/32] START preprocessor__num__imputer__strategy=mean, regressor__max_depth=4, regressor__n_estimators=32\n",
      "[CV 4/5; 11/32] END preprocessor__num__imputer__strategy=mean, regressor__max_depth=4, regressor__n_estimators=32;, score=-1264.885 total time=   2.3s\n",
      "[CV 3/5; 12/32] START preprocessor__num__imputer__strategy=median, regressor__max_depth=2, regressor__n_estimators=128\n",
      "[CV 3/5; 12/32] END preprocessor__num__imputer__strategy=median, regressor__max_depth=2, regressor__n_estimators=128;, score=-1618.530 total time=   5.4s\n",
      "[CV 3/5; 14/32] START preprocessor__num__imputer__strategy=mean, regressor__max_depth=4, regressor__n_estimators=16\n",
      "[CV 3/5; 14/32] END preprocessor__num__imputer__strategy=mean, regressor__max_depth=4, regressor__n_estimators=16;, score=-1277.974 total time=   1.1s\n",
      "[CV 3/5; 15/32] START preprocessor__num__imputer__strategy=mean, regressor__max_depth=16, regressor__n_estimators=128\n",
      "[CV 3/5; 15/32] END preprocessor__num__imputer__strategy=mean, regressor__max_depth=16, regressor__n_estimators=128;, score=-557.506 total time=  26.7s\n",
      "[CV 4/5; 18/32] START preprocessor__num__imputer__strategy=mean, regressor__max_depth=4, regressor__n_estimators=64\n",
      "[CV 4/5; 18/32] END preprocessor__num__imputer__strategy=mean, regressor__max_depth=4, regressor__n_estimators=64;, score=-1253.771 total time=   4.4s\n",
      "[CV 5/5; 19/32] START preprocessor__num__imputer__strategy=mean, regressor__max_depth=4, regressor__n_estimators=128\n",
      "[CV 5/5; 19/32] END preprocessor__num__imputer__strategy=mean, regressor__max_depth=4, regressor__n_estimators=128;, score=-1207.329 total time=   8.5s\n",
      "[CV 5/5; 21/32] START preprocessor__num__imputer__strategy=mean, regressor__max_depth=2, regressor__n_estimators=256\n"
     ]
    }
   ],
   "source": [
    "param_grid = {\n",
    "    'preprocessor__num__imputer__strategy': ['mean', 'median'],\n",
    "    'regressor__n_estimators': [16, 32, 64, 128, 256, 512],\n",
    "    'regressor__max_depth': [2, 4, 8, 16],\n",
    "}\n",
    "\n",
    "grid_search = RandomizedSearchCV(model, \n",
    "                                 param_grid, \n",
    "                                 cv=5, \n",
    "                                 verbose=10, \n",
    "                                 scoring='neg_root_mean_squared_error', \n",
    "                                 n_jobs=-1,\n",
    "                                 n_iter=32)\n",
    "\n",
    "grid_search.fit(diamonds[FEATS], diamonds[TARGET])"
   ]
  },
  {
   "cell_type": "code",
   "execution_count": null,
   "metadata": {},
   "outputs": [],
   "source": [
    "grid_search.best_params_"
   ]
  },
  {
   "cell_type": "code",
   "execution_count": null,
   "metadata": {},
   "outputs": [],
   "source": [
    "grid_search.best_score_"
   ]
  },
  {
   "cell_type": "markdown",
   "metadata": {},
   "source": [
    "## 8. prepare submission"
   ]
  },
  {
   "cell_type": "code",
   "execution_count": 26,
   "metadata": {},
   "outputs": [],
   "source": [
    "y_pred = grid_search.predict(diamonds_predict[FEATS])"
   ]
  },
  {
   "cell_type": "code",
   "execution_count": 27,
   "metadata": {},
   "outputs": [],
   "source": [
    "submission_df = pd.DataFrame({'id': diamonds_predict['id'], 'price': y_pred})"
   ]
  },
  {
   "cell_type": "code",
   "execution_count": 28,
   "metadata": {},
   "outputs": [
    {
     "data": {
      "text/html": [
       "<div>\n",
       "<style scoped>\n",
       "    .dataframe tbody tr th:only-of-type {\n",
       "        vertical-align: middle;\n",
       "    }\n",
       "\n",
       "    .dataframe tbody tr th {\n",
       "        vertical-align: top;\n",
       "    }\n",
       "\n",
       "    .dataframe thead th {\n",
       "        text-align: right;\n",
       "    }\n",
       "</style>\n",
       "<table border=\"1\" class=\"dataframe\">\n",
       "  <thead>\n",
       "    <tr style=\"text-align: right;\">\n",
       "      <th></th>\n",
       "      <th>id</th>\n",
       "      <th>price</th>\n",
       "    </tr>\n",
       "  </thead>\n",
       "  <tbody>\n",
       "    <tr>\n",
       "      <th>0</th>\n",
       "      <td>0</td>\n",
       "      <td>2951.143456</td>\n",
       "    </tr>\n",
       "    <tr>\n",
       "      <th>1</th>\n",
       "      <td>1</td>\n",
       "      <td>5383.738714</td>\n",
       "    </tr>\n",
       "    <tr>\n",
       "      <th>2</th>\n",
       "      <td>2</td>\n",
       "      <td>9318.955355</td>\n",
       "    </tr>\n",
       "    <tr>\n",
       "      <th>3</th>\n",
       "      <td>3</td>\n",
       "      <td>4146.608685</td>\n",
       "    </tr>\n",
       "    <tr>\n",
       "      <th>4</th>\n",
       "      <td>4</td>\n",
       "      <td>1703.914526</td>\n",
       "    </tr>\n",
       "  </tbody>\n",
       "</table>\n",
       "</div>"
      ],
      "text/plain": [
       "   id        price\n",
       "0   0  2951.143456\n",
       "1   1  5383.738714\n",
       "2   2  9318.955355\n",
       "3   3  4146.608685\n",
       "4   4  1703.914526"
      ]
     },
     "execution_count": 28,
     "metadata": {},
     "output_type": "execute_result"
    }
   ],
   "source": [
    "submission_df.head()"
   ]
  },
  {
   "cell_type": "code",
   "execution_count": 29,
   "metadata": {},
   "outputs": [
    {
     "data": {
      "text/html": [
       "<div>\n",
       "<style scoped>\n",
       "    .dataframe tbody tr th:only-of-type {\n",
       "        vertical-align: middle;\n",
       "    }\n",
       "\n",
       "    .dataframe tbody tr th {\n",
       "        vertical-align: top;\n",
       "    }\n",
       "\n",
       "    .dataframe thead th {\n",
       "        text-align: right;\n",
       "    }\n",
       "</style>\n",
       "<table border=\"1\" class=\"dataframe\">\n",
       "  <thead>\n",
       "    <tr style=\"text-align: right;\">\n",
       "      <th></th>\n",
       "      <th>id</th>\n",
       "      <th>price</th>\n",
       "    </tr>\n",
       "  </thead>\n",
       "  <tbody>\n",
       "    <tr>\n",
       "      <th>count</th>\n",
       "      <td>13485.000000</td>\n",
       "      <td>13485.000000</td>\n",
       "    </tr>\n",
       "    <tr>\n",
       "      <th>mean</th>\n",
       "      <td>6742.000000</td>\n",
       "      <td>3953.452654</td>\n",
       "    </tr>\n",
       "    <tr>\n",
       "      <th>std</th>\n",
       "      <td>3892.928525</td>\n",
       "      <td>3948.293788</td>\n",
       "    </tr>\n",
       "    <tr>\n",
       "      <th>min</th>\n",
       "      <td>0.000000</td>\n",
       "      <td>371.934951</td>\n",
       "    </tr>\n",
       "    <tr>\n",
       "      <th>25%</th>\n",
       "      <td>3371.000000</td>\n",
       "      <td>946.225611</td>\n",
       "    </tr>\n",
       "    <tr>\n",
       "      <th>50%</th>\n",
       "      <td>6742.000000</td>\n",
       "      <td>2464.845363</td>\n",
       "    </tr>\n",
       "    <tr>\n",
       "      <th>75%</th>\n",
       "      <td>10113.000000</td>\n",
       "      <td>5323.039914</td>\n",
       "    </tr>\n",
       "    <tr>\n",
       "      <th>max</th>\n",
       "      <td>13484.000000</td>\n",
       "      <td>18084.444910</td>\n",
       "    </tr>\n",
       "  </tbody>\n",
       "</table>\n",
       "</div>"
      ],
      "text/plain": [
       "                 id         price\n",
       "count  13485.000000  13485.000000\n",
       "mean    6742.000000   3953.452654\n",
       "std     3892.928525   3948.293788\n",
       "min        0.000000    371.934951\n",
       "25%     3371.000000    946.225611\n",
       "50%     6742.000000   2464.845363\n",
       "75%    10113.000000   5323.039914\n",
       "max    13484.000000  18084.444910"
      ]
     },
     "execution_count": 29,
     "metadata": {},
     "output_type": "execute_result"
    }
   ],
   "source": [
    "submission_df.describe()"
   ]
  },
  {
   "cell_type": "code",
   "execution_count": 30,
   "metadata": {},
   "outputs": [],
   "source": [
    "submission_df.price.clip(0, 20000, inplace=True)"
   ]
  },
  {
   "cell_type": "code",
   "execution_count": 31,
   "metadata": {},
   "outputs": [],
   "source": [
    "submission_df.to_csv('diamonds_rf.csv', index=False)"
   ]
  },
  {
   "cell_type": "markdown",
   "metadata": {},
   "source": [
    "## 9. let's try more models..."
   ]
  },
  {
   "cell_type": "markdown",
   "metadata": {},
   "source": [
    "<div style=\"padding-top: 25px; float: right\">\n",
    "    <div>    \n",
    "        <i>&nbsp;&nbsp;© Copyright by</i>\n",
    "    </div>\n",
    "    <div>\n",
    "        <a href=\"https://whiteboxml.com\">\n",
    "            <img src=\"https://whiteboxml.com/static/img/logo/black_bg_white.svg\" width=\"125\">\n",
    "        </a>\n",
    "    </div>\n",
    "</div>"
   ]
  }
 ],
 "metadata": {
  "kernelspec": {
   "display_name": "Python [conda env:ironhack_env]",
   "language": "python",
   "name": "conda-env-ironhack_env-py"
  },
  "language_info": {
   "codemirror_mode": {
    "name": "ipython",
    "version": 3
   },
   "file_extension": ".py",
   "mimetype": "text/x-python",
   "name": "python",
   "nbconvert_exporter": "python",
   "pygments_lexer": "ipython3",
   "version": "3.9.10"
  }
 },
 "nbformat": 4,
 "nbformat_minor": 4
}
